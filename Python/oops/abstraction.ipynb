{
 "cells": [
  {
   "cell_type": "code",
   "execution_count": 2,
   "id": "fa6460d3",
   "metadata": {},
   "outputs": [],
   "source": [
    "import abc\n",
    "class pwskills:\n",
    "    \n",
    "    @abc.abstractmethod\n",
    "    def students_details(self):\n",
    "        pass\n",
    "    \n",
    "    @abc.abstractmethod\n",
    "    def students_assignment(self):\n",
    "        pass\n",
    "    \n",
    "    @abc.abstractmethod\n",
    "    def students_marks(self):\n",
    "        pass"
   ]
  },
  {
   "cell_type": "code",
   "execution_count": 3,
   "id": "0f26c3c9",
   "metadata": {},
   "outputs": [],
   "source": [
    "class student_details(pwskills):\n",
    "    \n",
    "    def students_details(self):\n",
    "        return \"this is for getting details of student\"\n",
    "    \n",
    "    def students_assignment(self):\n",
    "        return \"this is for getting details of given assignments to one particular student\""
   ]
  },
  {
   "cell_type": "code",
   "execution_count": 4,
   "id": "f466572a",
   "metadata": {},
   "outputs": [],
   "source": [
    "class data_science_masters(pwskills):\n",
    "    \n",
    "    def students_details(self):\n",
    "        return \"this is for getting details of data science student\"\n",
    "    \n",
    "    def students_assignment(self):\n",
    "        return \"this is for getting details of given assignments to one particular data science student\"        "
   ]
  },
  {
   "cell_type": "code",
   "execution_count": 5,
   "id": "caa9bffa",
   "metadata": {},
   "outputs": [],
   "source": [
    "dsm = data_science_masters()"
   ]
  },
  {
   "cell_type": "code",
   "execution_count": 6,
   "id": "5de3eb15",
   "metadata": {},
   "outputs": [
    {
     "data": {
      "text/plain": [
       "'this is for getting details of given assignments to one particular data science student'"
      ]
     },
     "execution_count": 6,
     "metadata": {},
     "output_type": "execute_result"
    }
   ],
   "source": [
    "dsm.students_assignment()"
   ]
  },
  {
   "cell_type": "code",
   "execution_count": 8,
   "id": "9061b59d",
   "metadata": {},
   "outputs": [
    {
     "data": {
      "text/plain": [
       "'this is for getting details of data science student'"
      ]
     },
     "execution_count": 8,
     "metadata": {},
     "output_type": "execute_result"
    }
   ],
   "source": [
    "dsm.students_details()"
   ]
  },
  {
   "cell_type": "code",
   "execution_count": 9,
   "id": "2287713a",
   "metadata": {},
   "outputs": [],
   "source": [
    "sd = student_details()"
   ]
  },
  {
   "cell_type": "code",
   "execution_count": 10,
   "id": "dcfa3d54",
   "metadata": {},
   "outputs": [
    {
     "data": {
      "text/plain": [
       "'this is for getting details of given assignments to one student'"
      ]
     },
     "execution_count": 10,
     "metadata": {},
     "output_type": "execute_result"
    }
   ],
   "source": [
    "sd.students_assignment()"
   ]
  },
  {
   "cell_type": "code",
   "execution_count": 11,
   "id": "1e391afe",
   "metadata": {},
   "outputs": [
    {
     "data": {
      "text/plain": [
       "'this is for getting details of student details'"
      ]
     },
     "execution_count": 11,
     "metadata": {},
     "output_type": "execute_result"
    }
   ],
   "source": [
    "sd.students_details()"
   ]
  },
  {
   "cell_type": "code",
   "execution_count": null,
   "id": "dcaae19d",
   "metadata": {},
   "outputs": [],
   "source": []
  }
 ],
 "metadata": {
  "kernelspec": {
   "display_name": "Python 3 (ipykernel)",
   "language": "python",
   "name": "python3"
  },
  "language_info": {
   "codemirror_mode": {
    "name": "ipython",
    "version": 3
   },
   "file_extension": ".py",
   "mimetype": "text/x-python",
   "name": "python",
   "nbconvert_exporter": "python",
   "pygments_lexer": "ipython3",
   "version": "3.10.10"
  }
 },
 "nbformat": 4,
 "nbformat_minor": 5
}
