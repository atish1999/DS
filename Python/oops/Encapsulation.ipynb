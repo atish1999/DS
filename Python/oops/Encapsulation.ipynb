{
 "cells": [
  {
   "cell_type": "code",
   "execution_count": 7,
   "id": "f1a98fb7",
   "metadata": {},
   "outputs": [],
   "source": [
    "class test:\n",
    "    def __init__(self, a,b):\n",
    "        self.a = a\n",
    "        self.b = b"
   ]
  },
  {
   "cell_type": "code",
   "execution_count": 8,
   "id": "b57d8c82",
   "metadata": {},
   "outputs": [],
   "source": [
    "_t = test(2,3)"
   ]
  },
  {
   "cell_type": "code",
   "execution_count": 9,
   "id": "7cf9470f",
   "metadata": {},
   "outputs": [],
   "source": [
    "_t.a = 2345667"
   ]
  },
  {
   "cell_type": "code",
   "execution_count": 10,
   "id": "2e1c4613",
   "metadata": {},
   "outputs": [
    {
     "data": {
      "text/plain": [
       "2345667"
      ]
     },
     "execution_count": 10,
     "metadata": {},
     "output_type": "execute_result"
    }
   ],
   "source": [
    "_t.a"
   ]
  },
  {
   "cell_type": "code",
   "execution_count": 19,
   "id": "f1ca7730",
   "metadata": {},
   "outputs": [],
   "source": [
    "class car:\n",
    "#     making all the class variables private\n",
    "    def __init__(self, year, make, model, speed):\n",
    "        self.__year = year\n",
    "        self.__make = make\n",
    "        self.__model = model\n",
    "        self.__speed = 0"
   ]
  },
  {
   "cell_type": "code",
   "execution_count": 15,
   "id": "729fad64",
   "metadata": {},
   "outputs": [],
   "source": [
    "c = car(2021, \"toyota\", \"innova\", 12 )"
   ]
  },
  {
   "cell_type": "code",
   "execution_count": 16,
   "id": "7edc01d2",
   "metadata": {},
   "outputs": [
    {
     "ename": "AttributeError",
     "evalue": "'car' object has no attribute 'year'",
     "output_type": "error",
     "traceback": [
      "\u001b[0;31m---------------------------------------------------------------------------\u001b[0m",
      "\u001b[0;31mAttributeError\u001b[0m                            Traceback (most recent call last)",
      "\u001b[0;32m/tmp/ipykernel_22824/4006134625.py\u001b[0m in \u001b[0;36m<module>\u001b[0;34m\u001b[0m\n\u001b[0;32m----> 1\u001b[0;31m \u001b[0mc\u001b[0m\u001b[0;34m.\u001b[0m\u001b[0myear\u001b[0m\u001b[0;34m\u001b[0m\u001b[0;34m\u001b[0m\u001b[0m\n\u001b[0m",
      "\u001b[0;31mAttributeError\u001b[0m: 'car' object has no attribute 'year'"
     ]
    }
   ],
   "source": [
    "c.year"
   ]
  },
  {
   "cell_type": "code",
   "execution_count": 17,
   "id": "982429b2",
   "metadata": {},
   "outputs": [
    {
     "ename": "AttributeError",
     "evalue": "'car' object has no attribute '__year'",
     "output_type": "error",
     "traceback": [
      "\u001b[0;31m---------------------------------------------------------------------------\u001b[0m",
      "\u001b[0;31mAttributeError\u001b[0m                            Traceback (most recent call last)",
      "\u001b[0;32m/tmp/ipykernel_22824/164851956.py\u001b[0m in \u001b[0;36m<module>\u001b[0;34m\u001b[0m\n\u001b[0;32m----> 1\u001b[0;31m \u001b[0mc\u001b[0m\u001b[0;34m.\u001b[0m\u001b[0m__year\u001b[0m\u001b[0;34m\u001b[0m\u001b[0;34m\u001b[0m\u001b[0m\n\u001b[0m",
      "\u001b[0;31mAttributeError\u001b[0m: 'car' object has no attribute '__year'"
     ]
    }
   ],
   "source": [
    "c.__year"
   ]
  },
  {
   "cell_type": "code",
   "execution_count": 18,
   "id": "699ab539",
   "metadata": {},
   "outputs": [
    {
     "data": {
      "text/plain": [
       "2021"
      ]
     },
     "execution_count": 18,
     "metadata": {},
     "output_type": "execute_result"
    }
   ],
   "source": [
    "c._car__year"
   ]
  },
  {
   "cell_type": "code",
   "execution_count": 42,
   "id": "dd2a1281",
   "metadata": {},
   "outputs": [],
   "source": [
    "# ---------------------------------"
   ]
  },
  {
   "cell_type": "code",
   "execution_count": 33,
   "id": "f42568f7",
   "metadata": {},
   "outputs": [],
   "source": [
    "class car:\n",
    "    \n",
    "    def __init__(self, year, make, model, speed):\n",
    "        self.__year = year\n",
    "        self.__make = make\n",
    "        self.__model = model\n",
    "        self.__speed = 0\n",
    "        \n",
    "    def set_speed(self, speed):\n",
    "        self.__speed = 0 if speed < 0 else speed\n",
    "    \n",
    "    def get_speed(self):\n",
    "        return self.__speed\n",
    "        "
   ]
  },
  {
   "cell_type": "code",
   "execution_count": 34,
   "id": "5aec122d",
   "metadata": {},
   "outputs": [],
   "source": [
    "c = car(123,\"a\",\"s\",12)"
   ]
  },
  {
   "cell_type": "code",
   "execution_count": 35,
   "id": "b6bf7baf",
   "metadata": {},
   "outputs": [],
   "source": [
    "c.set_speed(12)"
   ]
  },
  {
   "cell_type": "code",
   "execution_count": 37,
   "id": "b8598375",
   "metadata": {},
   "outputs": [
    {
     "data": {
      "text/plain": [
       "12"
      ]
     },
     "execution_count": 37,
     "metadata": {},
     "output_type": "execute_result"
    }
   ],
   "source": [
    "c.get_speed()"
   ]
  },
  {
   "cell_type": "code",
   "execution_count": 38,
   "id": "e9692d6e",
   "metadata": {},
   "outputs": [],
   "source": [
    "c.set_speed(-12)"
   ]
  },
  {
   "cell_type": "code",
   "execution_count": 39,
   "id": "e3604f45",
   "metadata": {},
   "outputs": [
    {
     "data": {
      "text/plain": [
       "0"
      ]
     },
     "execution_count": 39,
     "metadata": {},
     "output_type": "execute_result"
    }
   ],
   "source": [
    "c.get_speed()"
   ]
  },
  {
   "cell_type": "code",
   "execution_count": 41,
   "id": "55690bb6",
   "metadata": {},
   "outputs": [],
   "source": [
    "# ---------------------------------"
   ]
  },
  {
   "cell_type": "code",
   "execution_count": 77,
   "id": "6841234b",
   "metadata": {},
   "outputs": [],
   "source": [
    "class bank_account:\n",
    "    \n",
    "    def __init__(self, balance):\n",
    "        self.__balance = balance\n",
    "        \n",
    "    def deposit(self, amount):\n",
    "        self.__balance += amount\n",
    "        \n",
    "    def withdraw(self, amount):\n",
    "        \n",
    "        if amount <= self.__balance and amount >= 0:\n",
    "            self.__balance -= amount\n",
    "            return True\n",
    "        \n",
    "        else:\n",
    "            return False\n",
    "        \n",
    "    def get_balance(self):\n",
    "        return self.__balance\n",
    "    \n",
    "#    creating private methods\n",
    "    def __eligible_for_credit_card(self):\n",
    "        \n",
    "        return True if self.__balance > 500 else False"
   ]
  },
  {
   "cell_type": "code",
   "execution_count": 84,
   "id": "8409bdc8",
   "metadata": {},
   "outputs": [],
   "source": [
    "atish = bank_account(1000)"
   ]
  },
  {
   "cell_type": "code",
   "execution_count": 85,
   "id": "ca0dd3fa",
   "metadata": {},
   "outputs": [
    {
     "data": {
      "text/plain": [
       "1000"
      ]
     },
     "execution_count": 85,
     "metadata": {},
     "output_type": "execute_result"
    }
   ],
   "source": [
    "atish.get_balance()"
   ]
  },
  {
   "cell_type": "code",
   "execution_count": 86,
   "id": "beb46b3c",
   "metadata": {},
   "outputs": [],
   "source": [
    "atish.deposit(5000)"
   ]
  },
  {
   "cell_type": "code",
   "execution_count": 87,
   "id": "a94d0c54",
   "metadata": {},
   "outputs": [
    {
     "data": {
      "text/plain": [
       "6000"
      ]
     },
     "execution_count": 87,
     "metadata": {},
     "output_type": "execute_result"
    }
   ],
   "source": [
    "atish.get_balance()"
   ]
  },
  {
   "cell_type": "code",
   "execution_count": 88,
   "id": "88aece03",
   "metadata": {},
   "outputs": [],
   "source": [
    "atish.deposit(1000)"
   ]
  },
  {
   "cell_type": "code",
   "execution_count": 89,
   "id": "7412f321",
   "metadata": {},
   "outputs": [
    {
     "data": {
      "text/plain": [
       "7000"
      ]
     },
     "execution_count": 89,
     "metadata": {},
     "output_type": "execute_result"
    }
   ],
   "source": [
    "atish.get_balance()"
   ]
  },
  {
   "cell_type": "code",
   "execution_count": 90,
   "id": "80fcab83",
   "metadata": {},
   "outputs": [
    {
     "data": {
      "text/plain": [
       "False"
      ]
     },
     "execution_count": 90,
     "metadata": {},
     "output_type": "execute_result"
    }
   ],
   "source": [
    "atish.withdraw(10000)"
   ]
  },
  {
   "cell_type": "code",
   "execution_count": 92,
   "id": "d67f7c8e",
   "metadata": {},
   "outputs": [
    {
     "data": {
      "text/plain": [
       "False"
      ]
     },
     "execution_count": 92,
     "metadata": {},
     "output_type": "execute_result"
    }
   ],
   "source": [
    "atish.withdraw(-23)"
   ]
  },
  {
   "cell_type": "code",
   "execution_count": 94,
   "id": "f688a1e3",
   "metadata": {},
   "outputs": [
    {
     "data": {
      "text/plain": [
       "True"
      ]
     },
     "execution_count": 94,
     "metadata": {},
     "output_type": "execute_result"
    }
   ],
   "source": [
    "atish.withdraw(1000)"
   ]
  },
  {
   "cell_type": "code",
   "execution_count": 95,
   "id": "a856521e",
   "metadata": {},
   "outputs": [
    {
     "data": {
      "text/plain": [
       "6000"
      ]
     },
     "execution_count": 95,
     "metadata": {},
     "output_type": "execute_result"
    }
   ],
   "source": [
    "atish.get_balance()"
   ]
  },
  {
   "cell_type": "code",
   "execution_count": null,
   "id": "997c051e",
   "metadata": {},
   "outputs": [],
   "source": []
  }
 ],
 "metadata": {
  "kernelspec": {
   "display_name": "Python 3 (ipykernel)",
   "language": "python",
   "name": "python3"
  },
  "language_info": {
   "codemirror_mode": {
    "name": "ipython",
    "version": 3
   },
   "file_extension": ".py",
   "mimetype": "text/x-python",
   "name": "python",
   "nbconvert_exporter": "python",
   "pygments_lexer": "ipython3",
   "version": "3.9.13"
  }
 },
 "nbformat": 4,
 "nbformat_minor": 5
}
