{
 "cells": [
  {
   "cell_type": "code",
   "execution_count": 8,
   "id": "1a56dd28",
   "metadata": {},
   "outputs": [],
   "source": [
    "# single inheritance [child has single parent]\n",
    "# here 'test' class is the parent class\n",
    "class test:\n",
    "    \n",
    "    def test_meth(self):\n",
    "        return \"this is my first class\"\n",
    "    \n",
    "    "
   ]
  },
  {
   "cell_type": "code",
   "execution_count": 9,
   "id": "522330ae",
   "metadata": {},
   "outputs": [],
   "source": [
    "# 'child_test' class is the child class of 'test' class\n",
    "class child_test(test):\n",
    "    pass"
   ]
  },
  {
   "cell_type": "code",
   "execution_count": 10,
   "id": "1e348204",
   "metadata": {},
   "outputs": [],
   "source": [
    "_child = child_test()"
   ]
  },
  {
   "cell_type": "code",
   "execution_count": 11,
   "id": "9360e983",
   "metadata": {},
   "outputs": [
    {
     "data": {
      "text/plain": [
       "'this is my first class'"
      ]
     },
     "execution_count": 11,
     "metadata": {},
     "output_type": "execute_result"
    }
   ],
   "source": [
    "_child.test_meth()"
   ]
  },
  {
   "cell_type": "code",
   "execution_count": 12,
   "id": "ad212896",
   "metadata": {},
   "outputs": [],
   "source": [
    "# multilevel inheritance [level wise inheritance will occur]\n",
    "class class1:\n",
    "    \n",
    "    def test_class1(self):\n",
    "        return \"This is the method of class1\""
   ]
  },
  {
   "cell_type": "code",
   "execution_count": 13,
   "id": "2dbac87e",
   "metadata": {},
   "outputs": [],
   "source": [
    "class class2(class1):\n",
    "    \n",
    "    def test_class2(self):\n",
    "        return \"This is a method of class2\""
   ]
  },
  {
   "cell_type": "code",
   "execution_count": 14,
   "id": "8cb1fa85",
   "metadata": {},
   "outputs": [],
   "source": [
    "class class3(class2):\n",
    "    pass"
   ]
  },
  {
   "cell_type": "code",
   "execution_count": 15,
   "id": "a07f2bf6",
   "metadata": {},
   "outputs": [],
   "source": [
    "obj_class3 = class3()"
   ]
  },
  {
   "cell_type": "code",
   "execution_count": 16,
   "id": "4e175365",
   "metadata": {},
   "outputs": [
    {
     "data": {
      "text/plain": [
       "'This is a method of class2'"
      ]
     },
     "execution_count": 16,
     "metadata": {},
     "output_type": "execute_result"
    }
   ],
   "source": [
    "obj_class3.test_class2()"
   ]
  },
  {
   "cell_type": "code",
   "execution_count": 17,
   "id": "8e3e1145",
   "metadata": {},
   "outputs": [
    {
     "data": {
      "text/plain": [
       "'This is the method of class1'"
      ]
     },
     "execution_count": 17,
     "metadata": {},
     "output_type": "execute_result"
    }
   ],
   "source": [
    "obj_class3.test_class1()"
   ]
  },
  {
   "cell_type": "code",
   "execution_count": 48,
   "id": "82046c90",
   "metadata": {},
   "outputs": [],
   "source": [
    "# multiple inheritance [when a child class has more than 1 parent]\n",
    "class parent1:\n",
    "    \n",
    "    def test_parent1(self):\n",
    "        return \"this is from test_parent1\"\n"
   ]
  },
  {
   "cell_type": "code",
   "execution_count": 42,
   "id": "533685f4",
   "metadata": {},
   "outputs": [],
   "source": [
    "class parent2:\n",
    "    \n",
    "    def test_parent2(self):\n",
    "        return \"this is from test_parent2\"\n",
    "    "
   ]
  },
  {
   "cell_type": "code",
   "execution_count": 43,
   "id": "2428f3b8",
   "metadata": {},
   "outputs": [],
   "source": [
    "# creating child class which is inheriting properties from both parent 1 & 2\n",
    "\n",
    "class child1(parent2, parent1):\n",
    "    \n",
    "    pass"
   ]
  },
  {
   "cell_type": "code",
   "execution_count": 44,
   "id": "196cdc61",
   "metadata": {},
   "outputs": [],
   "source": [
    "_child1 = child1()"
   ]
  },
  {
   "cell_type": "code",
   "execution_count": 45,
   "id": "d0ea8cb2",
   "metadata": {},
   "outputs": [
    {
     "data": {
      "text/plain": [
       "'this is from test_parent1'"
      ]
     },
     "execution_count": 45,
     "metadata": {},
     "output_type": "execute_result"
    }
   ],
   "source": [
    "_child1.test_parent1()"
   ]
  },
  {
   "cell_type": "code",
   "execution_count": 46,
   "id": "b39c7de2",
   "metadata": {},
   "outputs": [
    {
     "data": {
      "text/plain": [
       "'this is from test_parent2'"
      ]
     },
     "execution_count": 46,
     "metadata": {},
     "output_type": "execute_result"
    }
   ],
   "source": [
    "_child1.test_parent2()"
   ]
  },
  {
   "cell_type": "code",
   "execution_count": null,
   "id": "430d88c7",
   "metadata": {},
   "outputs": [],
   "source": []
  },
  {
   "cell_type": "code",
   "execution_count": null,
   "id": "92d097e2",
   "metadata": {},
   "outputs": [],
   "source": []
  }
 ],
 "metadata": {
  "kernelspec": {
   "display_name": "Python 3 (ipykernel)",
   "language": "python",
   "name": "python3"
  },
  "language_info": {
   "codemirror_mode": {
    "name": "ipython",
    "version": 3
   },
   "file_extension": ".py",
   "mimetype": "text/x-python",
   "name": "python",
   "nbconvert_exporter": "python",
   "pygments_lexer": "ipython3",
   "version": "3.10.10"
  }
 },
 "nbformat": 4,
 "nbformat_minor": 5
}
