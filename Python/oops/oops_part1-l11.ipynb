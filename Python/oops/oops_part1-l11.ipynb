{
 "cells": [
  {
   "cell_type": "markdown",
   "id": "f785c5fb",
   "metadata": {},
   "source": [
    "# classes and objects\n",
    "# what is a class and an object ?\n",
    "\n",
    "    class is a skeleton or blueprint. It gives the general idea \n",
    "    object is an real entity based on the the blueprint i.e. class\n",
    "    object can be named as variable or instance.\n",
    "    we can create multiple objects of a same class"
   ]
  },
  {
   "cell_type": "code",
   "execution_count": 1,
   "id": "5106cadf",
   "metadata": {},
   "outputs": [],
   "source": [
    "a = 1"
   ]
  },
  {
   "cell_type": "code",
   "execution_count": 3,
   "id": "004a1952",
   "metadata": {},
   "outputs": [
    {
     "name": "stdout",
     "output_type": "stream",
     "text": [
      "<class 'int'>\n"
     ]
    }
   ],
   "source": [
    "print(type(a))"
   ]
  },
  {
   "cell_type": "code",
   "execution_count": 11,
   "id": "53b78955",
   "metadata": {},
   "outputs": [],
   "source": [
    "# <class 'int'> here class int means that the value will be an integer in general\n",
    "# we are not saying specifically that it contains 1 or 10.\n",
    "# i.e. the general idea is <class 'int'> will give an integer"
   ]
  },
  {
   "cell_type": "code",
   "execution_count": 4,
   "id": "a8322995",
   "metadata": {},
   "outputs": [],
   "source": [
    "b = \"pwskills\""
   ]
  },
  {
   "cell_type": "code",
   "execution_count": 5,
   "id": "f8f9b96f",
   "metadata": {},
   "outputs": [
    {
     "name": "stdout",
     "output_type": "stream",
     "text": [
      "<class 'str'>\n"
     ]
    }
   ],
   "source": [
    "print(type(b))"
   ]
  },
  {
   "cell_type": "code",
   "execution_count": 12,
   "id": "b8c919c0",
   "metadata": {},
   "outputs": [],
   "source": [
    "# <class 'str'> means that value will be enclosed in b/w single quotes or\n",
    "# double quotes. that is the general idea"
   ]
  },
  {
   "cell_type": "markdown",
   "id": "a18d681c",
   "metadata": {},
   "source": [
    "# what is the need of class in python ?\n",
    "\n",
    "    --> for writing strucutrised code in modular programming\n",
    "    i.e. writing specific code for specific module\n",
    "    eg. frontend module should contain frontend related,\n",
    "    backend should contain backend realted, databases \n",
    "    should contain databases related.\n",
    "    1. to make the code reusable\n",
    "    2. to make the classification simple and elegant\n",
    "    "
   ]
  },
  {
   "cell_type": "markdown",
   "id": "ee699067",
   "metadata": {},
   "source": [
    "# what can a class contain ?\n",
    "    -> a class can contain variable, methods, objects of other classes"
   ]
  },
  {
   "cell_type": "markdown",
   "id": "f77a1b20",
   "metadata": {},
   "source": [
    "# how to create class in Python ?"
   ]
  },
  {
   "cell_type": "code",
   "execution_count": 21,
   "id": "3e97c2cc",
   "metadata": {},
   "outputs": [],
   "source": [
    "# 1. creating a blank class named test\n",
    "# in this case i.e. for a blank class we have to write 'pass' keyword\n",
    "# otherwise there will be error\n",
    "class test:\n",
    "    pass"
   ]
  },
  {
   "cell_type": "code",
   "execution_count": 22,
   "id": "3d3116cd",
   "metadata": {},
   "outputs": [],
   "source": [
    "a = test()"
   ]
  },
  {
   "cell_type": "code",
   "execution_count": 23,
   "id": "57d59cbc",
   "metadata": {},
   "outputs": [
    {
     "data": {
      "text/plain": [
       "__main__.test"
      ]
     },
     "execution_count": 23,
     "metadata": {},
     "output_type": "execute_result"
    }
   ],
   "source": [
    "type(a)"
   ]
  },
  {
   "cell_type": "code",
   "execution_count": 24,
   "id": "da58b750",
   "metadata": {},
   "outputs": [
    {
     "name": "stdout",
     "output_type": "stream",
     "text": [
      "<class '__main__.test'>\n"
     ]
    }
   ],
   "source": [
    "print(type(a))"
   ]
  },
  {
   "cell_type": "code",
   "execution_count": 15,
   "id": "1c6c3605",
   "metadata": {},
   "outputs": [],
   "source": [
    "# 2. creating a class named pwskills"
   ]
  },
  {
   "cell_type": "code",
   "execution_count": 108,
   "id": "6234a73b",
   "metadata": {},
   "outputs": [],
   "source": [
    "class pwskills:\n",
    "    \n",
    "#   whatever the functions we are creating inside the class we have to bind that method\n",
    "#   inside that class using self keyword in order to let the class understand that those\n",
    "#   methods belong to that class. and 'self' keyword should be the first parameter of that\n",
    "#   function. if we are not writing in that case there will be an error stating that\n",
    "#   \"takes 0 positional arguments but 1 was given\"\n",
    "\n",
    "#   to access class elements within class 'self' keyword is used\n",
    "#   self is a pointer or a reference of the class \n",
    "#   self is not a reserved keyword. we can use anything other than self.\n",
    "#   self is just a convention to use. i.e. after any instance method or constructor\n",
    "#   we have to provide a parameter inorder to bind that method inside that class \n",
    "#   that parameter will work as a pointer\n",
    "    def welcome_msg(self):\n",
    "        print(\"welcome to pwskills\")\n",
    "        \n",
    "    "
   ]
  },
  {
   "cell_type": "code",
   "execution_count": 37,
   "id": "18d41f03",
   "metadata": {},
   "outputs": [],
   "source": [
    "rohan = pwskills()"
   ]
  },
  {
   "cell_type": "code",
   "execution_count": 38,
   "id": "ee287ae6",
   "metadata": {},
   "outputs": [
    {
     "name": "stdout",
     "output_type": "stream",
     "text": [
      "<class '__main__.pwskills'>\n"
     ]
    }
   ],
   "source": [
    "print(type(rohan))"
   ]
  },
  {
   "cell_type": "code",
   "execution_count": 39,
   "id": "cb8e0bfe",
   "metadata": {},
   "outputs": [
    {
     "name": "stdout",
     "output_type": "stream",
     "text": [
      "welcome to pwskills\n"
     ]
    }
   ],
   "source": [
    "rohan.welcome_msg()"
   ]
  },
  {
   "cell_type": "code",
   "execution_count": 40,
   "id": "2e2b3e62",
   "metadata": {},
   "outputs": [],
   "source": [
    "gaurav = pwskills()"
   ]
  },
  {
   "cell_type": "code",
   "execution_count": 41,
   "id": "d6351eed",
   "metadata": {},
   "outputs": [
    {
     "name": "stdout",
     "output_type": "stream",
     "text": [
      "welcome to pwskills\n"
     ]
    }
   ],
   "source": [
    "gaurav.welcome_msg()"
   ]
  },
  {
   "cell_type": "code",
   "execution_count": 59,
   "id": "7fc636a0",
   "metadata": {},
   "outputs": [],
   "source": [
    "class pwskills1:\n",
    "#   to access class elements within class 'self' keyword is used\n",
    "    \n",
    "#   constructor is by default the init function provided by python\n",
    "    def __init__(self, phone_number, email_id, student_id):\n",
    "        self.phone_number = phone_number\n",
    "        self.email_id = email_id\n",
    "        self.student_id = student_id\n",
    "    \n",
    "    def return_student_details(self):\n",
    "        return self.email_id , self.phone_number, self.student_id\n",
    "        "
   ]
  },
  {
   "cell_type": "code",
   "execution_count": 53,
   "id": "ad938c71",
   "metadata": {},
   "outputs": [],
   "source": [
    "rohan = pwskills1(1234, \"r@gmail.com\",  101)"
   ]
  },
  {
   "cell_type": "code",
   "execution_count": 57,
   "id": "b59c13b6",
   "metadata": {},
   "outputs": [
    {
     "data": {
      "text/plain": [
       "1234"
      ]
     },
     "execution_count": 57,
     "metadata": {},
     "output_type": "execute_result"
    }
   ],
   "source": [
    "rohan.phone_number"
   ]
  },
  {
   "cell_type": "code",
   "execution_count": 58,
   "id": "9bd20605",
   "metadata": {},
   "outputs": [
    {
     "data": {
      "text/plain": [
       "'r@gmail.com'"
      ]
     },
     "execution_count": 58,
     "metadata": {},
     "output_type": "execute_result"
    }
   ],
   "source": [
    "rohan.email_id"
   ]
  },
  {
   "cell_type": "code",
   "execution_count": 54,
   "id": "ef278936",
   "metadata": {},
   "outputs": [
    {
     "data": {
      "text/plain": [
       "('r@gmail.com', 1234, 101)"
      ]
     },
     "execution_count": 54,
     "metadata": {},
     "output_type": "execute_result"
    }
   ],
   "source": [
    "rohan.return_student_details()"
   ]
  },
  {
   "cell_type": "code",
   "execution_count": 55,
   "id": "293883f6",
   "metadata": {},
   "outputs": [],
   "source": [
    "gaurav = pwskills1(9832456790, \"gaurav@gmail.com\", \"102\")"
   ]
  },
  {
   "cell_type": "code",
   "execution_count": 56,
   "id": "73408f35",
   "metadata": {},
   "outputs": [
    {
     "data": {
      "text/plain": [
       "('gaurav@gmail.com', 9832456790, '102')"
      ]
     },
     "execution_count": 56,
     "metadata": {},
     "output_type": "execute_result"
    }
   ],
   "source": [
    "gaurav.return_student_details()"
   ]
  },
  {
   "cell_type": "code",
   "execution_count": 69,
   "id": "5dd7fd25",
   "metadata": {},
   "outputs": [],
   "source": [
    "class pwskills2:\n",
    "#   to access class elements within class 'self' keyword is used\n",
    "    \n",
    "#   here we have not used self inplace of self we have used 'this'\n",
    "    def __init__(this, phone_number, email_id, student_id):\n",
    "        this.phone_number1 = phone_number\n",
    "        this.email_id1 = email_id\n",
    "        this.student_id1 = student_id\n",
    "    \n",
    "    def return_student_details(self):\n",
    "        return self.email_id1 , self.phone_number1, self.student_id1"
   ]
  },
  {
   "cell_type": "code",
   "execution_count": 67,
   "id": "4d0cfd08",
   "metadata": {},
   "outputs": [],
   "source": [
    "sudh = pwskills2(123, 's@g.com', 101)"
   ]
  },
  {
   "cell_type": "code",
   "execution_count": 68,
   "id": "27e498ab",
   "metadata": {},
   "outputs": [
    {
     "data": {
      "text/plain": [
       "('s@g.com', 123, 101)"
      ]
     },
     "execution_count": 68,
     "metadata": {},
     "output_type": "execute_result"
    }
   ],
   "source": [
    "sudh.return_student_details()"
   ]
  },
  {
   "cell_type": "code",
   "execution_count": 7,
   "id": "ae5ec73a",
   "metadata": {},
   "outputs": [],
   "source": [
    "class pwskills3:\n",
    "#   to access class elements within class 'self' keyword is used\n",
    "    \n",
    "#   here we have not used self inplace of self we have used 'this'\n",
    "    def __init__(this, phone_number, email_id, student_id):\n",
    "        this.phone_number1 = phone_number\n",
    "        this.email_id1 = email_id\n",
    "        this.student_id1 = student_id\n",
    "    \n",
    "    def return_student_details(this):\n",
    "        return this.email_id1 , this.phone_number1, this.student_id1\n",
    "    \n",
    "    msg = f\"hello guys\"\n",
    "    \n",
    "    \n",
    "    def greet(this):\n",
    "        return this.msg\n",
    "    \n"
   ]
  },
  {
   "cell_type": "code",
   "execution_count": 8,
   "id": "a32b0976",
   "metadata": {},
   "outputs": [],
   "source": [
    "chaman = pwskills3(12,'c@gmail.com', 123)"
   ]
  },
  {
   "cell_type": "code",
   "execution_count": 9,
   "id": "0b7e295f",
   "metadata": {},
   "outputs": [
    {
     "data": {
      "text/plain": [
       "'hello guys'"
      ]
     },
     "execution_count": 9,
     "metadata": {},
     "output_type": "execute_result"
    }
   ],
   "source": [
    "chaman.msg"
   ]
  },
  {
   "cell_type": "code",
   "execution_count": 10,
   "id": "81bc2471",
   "metadata": {},
   "outputs": [
    {
     "data": {
      "text/plain": [
       "'hello guys'"
      ]
     },
     "execution_count": 10,
     "metadata": {},
     "output_type": "execute_result"
    }
   ],
   "source": [
    "chaman.greet()"
   ]
  },
  {
   "cell_type": "markdown",
   "id": "4f69c1d5",
   "metadata": {},
   "source": []
  },
  {
   "cell_type": "code",
   "execution_count": null,
   "id": "a9095b46",
   "metadata": {},
   "outputs": [],
   "source": []
  }
 ],
 "metadata": {
  "kernelspec": {
   "display_name": "Python 3 (ipykernel)",
   "language": "python",
   "name": "python3"
  },
  "language_info": {
   "codemirror_mode": {
    "name": "ipython",
    "version": 3
   },
   "file_extension": ".py",
   "mimetype": "text/x-python",
   "name": "python",
   "nbconvert_exporter": "python",
   "pygments_lexer": "ipython3",
   "version": "3.9.13"
  }
 },
 "nbformat": 4,
 "nbformat_minor": 5
}
