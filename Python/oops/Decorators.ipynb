{
 "cells": [
  {
   "cell_type": "code",
   "execution_count": 3,
   "id": "8d7b297d",
   "metadata": {},
   "outputs": [],
   "source": [
    "def test():\n",
    "    print(\"This is the start of the fun test\")\n",
    "    print(\"this is my fun to test\")\n",
    "    print(5+6)\n",
    "    print(\"This is the end of the fun test\")"
   ]
  },
  {
   "cell_type": "code",
   "execution_count": 4,
   "id": "6c50332f",
   "metadata": {},
   "outputs": [
    {
     "name": "stdout",
     "output_type": "stream",
     "text": [
      "This is the start of the fun test\n",
      "this is my fun to test\n",
      "11\n",
      "This is the end of the fun test\n"
     ]
    }
   ],
   "source": [
    "test()"
   ]
  },
  {
   "cell_type": "code",
   "execution_count": 1,
   "id": "b2d6ec91",
   "metadata": {},
   "outputs": [],
   "source": [
    "def deco(func):\n",
    "    \n",
    "    def inner_dec():\n",
    "        print(\"This is the start of the function\")\n",
    "        func()\n",
    "        print(\"This is the end of the function\")\n",
    "    \n",
    "    return inner_dec"
   ]
  },
  {
   "cell_type": "code",
   "execution_count": 4,
   "id": "9458449c",
   "metadata": {},
   "outputs": [],
   "source": [
    "# @decos\n",
    "def test1():\n",
    "    print(5+9)"
   ]
  },
  {
   "cell_type": "code",
   "execution_count": 5,
   "id": "6274fe5d",
   "metadata": {},
   "outputs": [
    {
     "name": "stdout",
     "output_type": "stream",
     "text": [
      "14\n"
     ]
    }
   ],
   "source": [
    "test1()"
   ]
  },
  {
   "cell_type": "code",
   "execution_count": 7,
   "id": "1b68dbde",
   "metadata": {},
   "outputs": [],
   "source": [
    "dr = deco(test1)"
   ]
  },
  {
   "cell_type": "code",
   "execution_count": 8,
   "id": "d3d03f50",
   "metadata": {},
   "outputs": [
    {
     "name": "stdout",
     "output_type": "stream",
     "text": [
      "This is the start of the function\n",
      "14\n",
      "This is the end of the function\n"
     ]
    }
   ],
   "source": [
    "dr()"
   ]
  },
  {
   "cell_type": "code",
   "execution_count": 54,
   "id": "a60adaba",
   "metadata": {},
   "outputs": [],
   "source": [
    "# write a decorator function which can calculate how much time a particular function is taking"
   ]
  },
  {
   "cell_type": "code",
   "execution_count": 56,
   "id": "66617845",
   "metadata": {},
   "outputs": [],
   "source": [
    "import time\n",
    "\n",
    "def timer_test(func):\n",
    "    \n",
    "    def timer():\n",
    "        start = time.time()\n",
    "        func()\n",
    "        end = time.time()\n",
    "        print(f\"time elapsed: {(end-start)}\")\n",
    "    return timer"
   ]
  },
  {
   "cell_type": "code",
   "execution_count": 57,
   "id": "3e9cff0a",
   "metadata": {},
   "outputs": [],
   "source": [
    "@timer_test\n",
    "def test2():\n",
    "    print(2+4)"
   ]
  },
  {
   "cell_type": "code",
   "execution_count": 58,
   "id": "50b05f0c",
   "metadata": {},
   "outputs": [
    {
     "name": "stdout",
     "output_type": "stream",
     "text": [
      "6\n",
      "time elapsed: 9.179115295410156e-05\n"
     ]
    }
   ],
   "source": [
    "test2()"
   ]
  },
  {
   "cell_type": "code",
   "execution_count": 59,
   "id": "b24f58fd",
   "metadata": {},
   "outputs": [],
   "source": [
    "@timer_test\n",
    "def test3():\n",
    "    for i in range(1000000):\n",
    "        pass"
   ]
  },
  {
   "cell_type": "code",
   "execution_count": 60,
   "id": "3157ba52",
   "metadata": {},
   "outputs": [
    {
     "name": "stdout",
     "output_type": "stream",
     "text": [
      "time elapsed: 0.016298532485961914\n"
     ]
    }
   ],
   "source": [
    "test3()"
   ]
  },
  {
   "cell_type": "code",
   "execution_count": 1,
   "id": "6056c2f3",
   "metadata": {},
   "outputs": [],
   "source": [
    "def debug(func):\n",
    "    \n",
    "    def execute(*args, **kwargs):\n",
    "        func(*args, **kwargs)\n",
    "        \n",
    "    return execute"
   ]
  },
  {
   "cell_type": "code",
   "execution_count": 6,
   "id": "2835bab4",
   "metadata": {},
   "outputs": [],
   "source": [
    "# @debug\n",
    "def greet(arg):\n",
    "    print(f\"hello {arg} \")"
   ]
  },
  {
   "cell_type": "code",
   "execution_count": 8,
   "id": "3ab5c979",
   "metadata": {},
   "outputs": [
    {
     "name": "stdout",
     "output_type": "stream",
     "text": [
      "hello john \n"
     ]
    }
   ],
   "source": [
    "greet(\"john\")"
   ]
  },
  {
   "cell_type": "code",
   "execution_count": 7,
   "id": "62a29b2b",
   "metadata": {},
   "outputs": [
    {
     "name": "stdout",
     "output_type": "stream",
     "text": [
      "hello john \n"
     ]
    }
   ],
   "source": [
    "debug(greet)(\"john\")"
   ]
  },
  {
   "cell_type": "code",
   "execution_count": null,
   "id": "1fb6fae9",
   "metadata": {},
   "outputs": [],
   "source": []
  }
 ],
 "metadata": {
  "kernelspec": {
   "display_name": "Python 3 (ipykernel)",
   "language": "python",
   "name": "python3"
  },
  "language_info": {
   "codemirror_mode": {
    "name": "ipython",
    "version": 3
   },
   "file_extension": ".py",
   "mimetype": "text/x-python",
   "name": "python",
   "nbconvert_exporter": "python",
   "pygments_lexer": "ipython3",
   "version": "3.10.10"
  }
 },
 "nbformat": 4,
 "nbformat_minor": 5
}
