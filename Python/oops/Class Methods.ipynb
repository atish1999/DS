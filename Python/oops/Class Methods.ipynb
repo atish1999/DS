{
 "cells": [
  {
   "cell_type": "code",
   "execution_count": 1,
   "id": "ecea4882",
   "metadata": {},
   "outputs": [],
   "source": [
    "class pwskills:\n",
    "    \n",
    "    def __init__(self, name, email):\n",
    "        self.name = name\n",
    "        self.email = email\n",
    "    \n",
    "    def student_details(self):\n",
    "        print(self.name, self.email)"
   ]
  },
  {
   "cell_type": "code",
   "execution_count": 2,
   "id": "f90a15d3",
   "metadata": {},
   "outputs": [],
   "source": [
    "pw = pwskills(\"mohan\", \"mohan@gmail.com\")"
   ]
  },
  {
   "cell_type": "code",
   "execution_count": 3,
   "id": "df2c6c9d",
   "metadata": {},
   "outputs": [
    {
     "name": "stdout",
     "output_type": "stream",
     "text": [
      "mohan mohan@gmail.com\n"
     ]
    }
   ],
   "source": [
    "pw.student_details()"
   ]
  },
  {
   "cell_type": "code",
   "execution_count": 4,
   "id": "3ce217f3",
   "metadata": {},
   "outputs": [
    {
     "data": {
      "text/plain": [
       "'mohan'"
      ]
     },
     "execution_count": 4,
     "metadata": {},
     "output_type": "execute_result"
    }
   ],
   "source": [
    "pw.name"
   ]
  },
  {
   "cell_type": "code",
   "execution_count": 5,
   "id": "3d45053e",
   "metadata": {},
   "outputs": [
    {
     "data": {
      "text/plain": [
       "'mohan@gmail.com'"
      ]
     },
     "execution_count": 5,
     "metadata": {},
     "output_type": "execute_result"
    }
   ],
   "source": [
    "pw.email"
   ]
  },
  {
   "cell_type": "code",
   "execution_count": 5,
   "id": "42c80f0d",
   "metadata": {},
   "outputs": [],
   "source": [
    "class pwskills1:\n",
    "    \n",
    "    def __init__(self, name, email):\n",
    "        self.name = name\n",
    "        self.email = email\n",
    "        \n",
    "#   This is one way of overloading '__init__' as python does not offer\n",
    "#   direct method overloading\n",
    "\n",
    "#   we can still create object of pwskills without using init method\n",
    "\n",
    "#   this is a class method\n",
    "    @classmethod\n",
    "    def set_details(cls, name, email):\n",
    "        return cls(name, email)\n",
    "    \n",
    "    def student_details(self):\n",
    "        print(self.name, self.email)"
   ]
  },
  {
   "cell_type": "code",
   "execution_count": 6,
   "id": "f068ce96",
   "metadata": {},
   "outputs": [],
   "source": [
    "# As 'set_details' is a class method we can call this method\n",
    "# without instantiating the class.\n",
    "pw1 = pwskills1.set_details(\"sudh\", \"sudh@gmail.com\")"
   ]
  },
  {
   "cell_type": "code",
   "execution_count": 20,
   "id": "ac4599ad",
   "metadata": {},
   "outputs": [],
   "source": [
    "# As through class method we have updated the variables we can\n",
    "#  call methods and variables of the class"
   ]
  },
  {
   "cell_type": "code",
   "execution_count": 7,
   "id": "869e0864",
   "metadata": {},
   "outputs": [
    {
     "name": "stdout",
     "output_type": "stream",
     "text": [
      "sudh sudh@gmail.com\n"
     ]
    }
   ],
   "source": [
    "pw1.student_details()"
   ]
  },
  {
   "cell_type": "code",
   "execution_count": 19,
   "id": "4717b197",
   "metadata": {},
   "outputs": [
    {
     "data": {
      "text/plain": [
       "'sudh'"
      ]
     },
     "execution_count": 19,
     "metadata": {},
     "output_type": "execute_result"
    }
   ],
   "source": [
    "pw1.name"
   ]
  },
  {
   "cell_type": "code",
   "execution_count": 15,
   "id": "fb743220",
   "metadata": {},
   "outputs": [
    {
     "data": {
      "text/plain": [
       "'sudh@gmail.com'"
      ]
     },
     "execution_count": 15,
     "metadata": {},
     "output_type": "execute_result"
    }
   ],
   "source": [
    "pw1.email"
   ]
  },
  {
   "cell_type": "code",
   "execution_count": 45,
   "id": "b9c4a40d",
   "metadata": {},
   "outputs": [],
   "source": [
    "class pwskills2:\n",
    "    \n",
    "    mobile_no = 918083 # this is a class variable.\n",
    "#   this variable can be accessed both by class methods and other methods from \n",
    "#   inside the class as well as outside the class\n",
    "\n",
    "#   we can access the variable without creating the object of the class only by\n",
    "#   accessing the name of the class\n",
    "\n",
    "#   if the value gets changed in one place it will be refelected globally like\n",
    "#   class variables are similar to static variables of javab\n",
    "    \n",
    "    def __init__(self, name, email):\n",
    "        self.name = name\n",
    "        self.email = email\n",
    "        \n",
    "    @classmethod\n",
    "    def change_number(cls, mobile):\n",
    "        pwskills2.mobile_no = mobile\n",
    "        \n",
    "    @classmethod\n",
    "    def set_details(cls, name, email):\n",
    "        return cls(name, email)\n",
    "    \n",
    "    def student_details(self):\n",
    "        print(self.name, self.email, pwskills2.mobile_no)"
   ]
  },
  {
   "cell_type": "code",
   "execution_count": 46,
   "id": "4a824a85",
   "metadata": {},
   "outputs": [
    {
     "data": {
      "text/plain": [
       "918083"
      ]
     },
     "execution_count": 46,
     "metadata": {},
     "output_type": "execute_result"
    }
   ],
   "source": [
    "pwskills2.mobile_no"
   ]
  },
  {
   "cell_type": "code",
   "execution_count": 47,
   "id": "d4eb55dd",
   "metadata": {},
   "outputs": [],
   "source": [
    "pwskills2.change_number(17342763627)"
   ]
  },
  {
   "cell_type": "code",
   "execution_count": 48,
   "id": "c9c43f06",
   "metadata": {},
   "outputs": [
    {
     "data": {
      "text/plain": [
       "17342763627"
      ]
     },
     "execution_count": 48,
     "metadata": {},
     "output_type": "execute_result"
    }
   ],
   "source": [
    "pwskills2.mobile_no"
   ]
  },
  {
   "cell_type": "code",
   "execution_count": 51,
   "id": "81222b80",
   "metadata": {},
   "outputs": [],
   "source": [
    "# accessing student details function\n",
    "# method-1 by creating object where __init__ function will be running in behind\n",
    "pw2 = pwskills2(\"sudh\", \"sudh@gmail.com\")"
   ]
  },
  {
   "cell_type": "code",
   "execution_count": 52,
   "id": "7e5d4620",
   "metadata": {},
   "outputs": [
    {
     "name": "stdout",
     "output_type": "stream",
     "text": [
      "sudh sudh@gmail.com 17342763627\n"
     ]
    }
   ],
   "source": [
    "pw2.student_details()"
   ]
  },
  {
   "cell_type": "code",
   "execution_count": 53,
   "id": "2589cc52",
   "metadata": {},
   "outputs": [],
   "source": [
    "# method-2 by using classmethod details because this method is overloading __init__ method"
   ]
  },
  {
   "cell_type": "code",
   "execution_count": 54,
   "id": "76de77c7",
   "metadata": {},
   "outputs": [],
   "source": [
    "pw2 = pwskills2.set_details(\"sudh\", \"sudh@yahoo.com\")"
   ]
  },
  {
   "cell_type": "code",
   "execution_count": 55,
   "id": "f9fbf7b0",
   "metadata": {},
   "outputs": [
    {
     "name": "stdout",
     "output_type": "stream",
     "text": [
      "sudh sudh@yahoo.com 17342763627\n"
     ]
    }
   ],
   "source": [
    "pw2.student_details()"
   ]
  },
  {
   "cell_type": "code",
   "execution_count": 56,
   "id": "b75394c1",
   "metadata": {},
   "outputs": [],
   "source": [
    "class pwskills3:\n",
    "    \n",
    "    mobile_no = 918083 \n",
    "    \n",
    "    def __init__(self, name, email):\n",
    "        self.name = name\n",
    "        self.email = email\n",
    "        \n",
    "    @classmethod\n",
    "    def change_number(cls, mobile):\n",
    "        pwskills2.mobile_no = mobile\n",
    "        \n",
    "    @classmethod\n",
    "    def set_details(cls, name, email):\n",
    "        return cls(name, email)\n",
    "    \n",
    "    def student_details(self):\n",
    "        print(self.name, self.email, pwskills2.mobile_no)"
   ]
  },
  {
   "cell_type": "code",
   "execution_count": 57,
   "id": "c2e0eb0b",
   "metadata": {},
   "outputs": [],
   "source": [
    "def course_details(cls, course_name):\n",
    "    print(\"course name is\", course_name)"
   ]
  },
  {
   "cell_type": "code",
   "execution_count": 74,
   "id": "9b1b08c9",
   "metadata": {},
   "outputs": [],
   "source": [
    "# how to attach an external method inside the  existing class as a classmethod\n",
    "# for eg. we are trying to attach 'course_details' method with the class 'pwskills3'"
   ]
  },
  {
   "cell_type": "code",
   "execution_count": 63,
   "id": "7cd43660",
   "metadata": {},
   "outputs": [],
   "source": [
    "pwskills3.course_details = classmethod(course_details)\n",
    "# now 'course_details' method is attached with the class pwskills3"
   ]
  },
  {
   "cell_type": "code",
   "execution_count": 64,
   "id": "e9953dbe",
   "metadata": {},
   "outputs": [
    {
     "name": "stdout",
     "output_type": "stream",
     "text": [
      "course name is data science master\n"
     ]
    }
   ],
   "source": [
    "pwskills3.course_details(\"data science master\")"
   ]
  },
  {
   "cell_type": "code",
   "execution_count": 69,
   "id": "cc65e3de",
   "metadata": {},
   "outputs": [],
   "source": [
    "# adding more external methods with the class pwskills3 as classmethos\n",
    "# example - 1"
   ]
  },
  {
   "cell_type": "code",
   "execution_count": 70,
   "id": "70173202",
   "metadata": {},
   "outputs": [],
   "source": [
    "def mentor(cls, list_of_mentor):\n",
    "    print(list_of_mentor)"
   ]
  },
  {
   "cell_type": "code",
   "execution_count": 71,
   "id": "aac7083d",
   "metadata": {},
   "outputs": [],
   "source": [
    "pwskills3.mentor = classmethod(mentor)"
   ]
  },
  {
   "cell_type": "code",
   "execution_count": 73,
   "id": "549081c1",
   "metadata": {},
   "outputs": [
    {
     "name": "stdout",
     "output_type": "stream",
     "text": [
      "['krish', 'sudhansu']\n"
     ]
    }
   ],
   "source": [
    "pwskills3.mentor([\"krish\", \"sudhansu\"])"
   ]
  },
  {
   "cell_type": "code",
   "execution_count": 88,
   "id": "cda484fa",
   "metadata": {},
   "outputs": [],
   "source": [
    "class pwskills4:\n",
    "    \n",
    "    mobile_no = 918083 \n",
    "    \n",
    "    def __init__(self, name, email):\n",
    "        self.name = name\n",
    "        self.email = email\n",
    "        \n",
    "        \n",
    "        \n",
    "    @classmethod\n",
    "    def change_number(cls, mobile):\n",
    "        pwskills2.mobile_no = mobile\n",
    "        \n",
    "    @classmethod\n",
    "    def set_details(cls, name, email):\n",
    "        return cls(name, email)\n",
    "    \n",
    "    def student_details(self):\n",
    "        print(self.name, self.email, pwskills2.mobile_no)"
   ]
  },
  {
   "cell_type": "code",
   "execution_count": 94,
   "id": "8d576501",
   "metadata": {},
   "outputs": [],
   "source": [
    "# how to delete some class methods from class\n",
    "# ans: \n",
    "#     (1)'del' keyword is used\n",
    "#     (2)'delattr(classname, \"methodname\")' or delattr(classname, \"variablename\")'"
   ]
  },
  {
   "cell_type": "code",
   "execution_count": 83,
   "id": "1522f099",
   "metadata": {},
   "outputs": [],
   "source": [
    "# method-1\n",
    "del pwskills4.change_number"
   ]
  },
  {
   "cell_type": "code",
   "execution_count": 79,
   "id": "672e2958",
   "metadata": {},
   "outputs": [],
   "source": [
    "# now if we want to access the deleted method in that case there will be error"
   ]
  },
  {
   "cell_type": "code",
   "execution_count": 80,
   "id": "d47abb49",
   "metadata": {},
   "outputs": [],
   "source": [
    "# for example we are trying to access the deleted method 'change_number'"
   ]
  },
  {
   "cell_type": "code",
   "execution_count": 81,
   "id": "3572fd92",
   "metadata": {
    "scrolled": true
   },
   "outputs": [
    {
     "ename": "AttributeError",
     "evalue": "type object 'pwskills4' has no attribute 'change_number'",
     "output_type": "error",
     "traceback": [
      "\u001b[0;31m---------------------------------------------------------------------------\u001b[0m",
      "\u001b[0;31mAttributeError\u001b[0m                            Traceback (most recent call last)",
      "Cell \u001b[0;32mIn[81], line 1\u001b[0m\n\u001b[0;32m----> 1\u001b[0m \u001b[43mpwskills4\u001b[49m\u001b[38;5;241;43m.\u001b[39;49m\u001b[43mchange_number\u001b[49m(\u001b[38;5;241m1234\u001b[39m)\n",
      "\u001b[0;31mAttributeError\u001b[0m: type object 'pwskills4' has no attribute 'change_number'"
     ]
    }
   ],
   "source": [
    "pwskills4.change_number(1234)"
   ]
  },
  {
   "cell_type": "code",
   "execution_count": 91,
   "id": "bad6351e",
   "metadata": {},
   "outputs": [],
   "source": [
    "# method-2\n",
    "delattr(pwskills4,  \"set_details\")"
   ]
  },
  {
   "cell_type": "code",
   "execution_count": 92,
   "id": "58d90528",
   "metadata": {},
   "outputs": [],
   "source": [
    "# it also deletes other instance methods of class which are not class methods\n",
    "delattr(pwskills4, \"student_details\") "
   ]
  },
  {
   "cell_type": "code",
   "execution_count": 93,
   "id": "c5ef3f46",
   "metadata": {},
   "outputs": [],
   "source": [
    "#  it deletes class variables also\n",
    "delattr(pwskills4, \"mobile_no\")"
   ]
  },
  {
   "cell_type": "code",
   "execution_count": 4,
   "id": "02bfdfca",
   "metadata": {},
   "outputs": [],
   "source": [
    "class abc:\n",
    "    \n",
    "    def __init__(self, a, b):\n",
    "        self.a = a\n",
    "        self.b = b\n",
    "        \n",
    "    @classmethod\n",
    "    def abc(cls, a,b):\n",
    "        cls.c = 1\n",
    "        cls.d = 2\n",
    "        return cls(a, b)\n",
    "        "
   ]
  },
  {
   "cell_type": "code",
   "execution_count": 5,
   "id": "cebb6117",
   "metadata": {},
   "outputs": [],
   "source": [
    "x = abc.abc(1,2)"
   ]
  },
  {
   "cell_type": "code",
   "execution_count": 6,
   "id": "b276c26b",
   "metadata": {
    "scrolled": true
   },
   "outputs": [
    {
     "name": "stdout",
     "output_type": "stream",
     "text": [
      "1\n"
     ]
    }
   ],
   "source": [
    "print(x.a)"
   ]
  },
  {
   "cell_type": "code",
   "execution_count": 7,
   "id": "7f57d8e9",
   "metadata": {},
   "outputs": [
    {
     "name": "stdout",
     "output_type": "stream",
     "text": [
      "1\n"
     ]
    }
   ],
   "source": [
    "print(x.c)"
   ]
  },
  {
   "cell_type": "code",
   "execution_count": 8,
   "id": "89902655",
   "metadata": {},
   "outputs": [
    {
     "name": "stdout",
     "output_type": "stream",
     "text": [
      "1\n"
     ]
    }
   ],
   "source": [
    "print(abc.c)"
   ]
  },
  {
   "cell_type": "code",
   "execution_count": 9,
   "id": "1d57660e",
   "metadata": {},
   "outputs": [
    {
     "data": {
      "text/plain": [
       "int"
      ]
     },
     "execution_count": 9,
     "metadata": {},
     "output_type": "execute_result"
    }
   ],
   "source": [
    "type(abc.c)"
   ]
  },
  {
   "cell_type": "code",
   "execution_count": 10,
   "id": "dc8c74ad",
   "metadata": {},
   "outputs": [
    {
     "ename": "AttributeError",
     "evalue": "type object 'abc' has no attribute 'a'",
     "output_type": "error",
     "traceback": [
      "\u001b[0;31m---------------------------------------------------------------------------\u001b[0m",
      "\u001b[0;31mAttributeError\u001b[0m                            Traceback (most recent call last)",
      "Cell \u001b[0;32mIn[10], line 1\u001b[0m\n\u001b[0;32m----> 1\u001b[0m \u001b[38;5;28mprint\u001b[39m(\u001b[43mabc\u001b[49m\u001b[38;5;241;43m.\u001b[39;49m\u001b[43ma\u001b[49m)\n",
      "\u001b[0;31mAttributeError\u001b[0m: type object 'abc' has no attribute 'a'"
     ]
    }
   ],
   "source": [
    "print(abc.a)"
   ]
  },
  {
   "cell_type": "code",
   "execution_count": 11,
   "id": "7e284b2b",
   "metadata": {},
   "outputs": [],
   "source": [
    "abc.c = 12"
   ]
  },
  {
   "cell_type": "code",
   "execution_count": 12,
   "id": "0ac99a8a",
   "metadata": {},
   "outputs": [],
   "source": [
    "x1 = abc(1,2)"
   ]
  },
  {
   "cell_type": "code",
   "execution_count": 13,
   "id": "1fbc75cb",
   "metadata": {},
   "outputs": [
    {
     "name": "stdout",
     "output_type": "stream",
     "text": [
      "12\n"
     ]
    }
   ],
   "source": [
    "print(x1.c)"
   ]
  },
  {
   "cell_type": "code",
   "execution_count": 46,
   "id": "5bf72007",
   "metadata": {},
   "outputs": [],
   "source": [
    "class pwskills:\n",
    "    \n",
    "    def __init__(self, name, email):\n",
    "        self.name = name\n",
    "        self.email = email"
   ]
  },
  {
   "cell_type": "code",
   "execution_count": 47,
   "id": "b7ae86fb",
   "metadata": {},
   "outputs": [],
   "source": [
    "def set_details(cls, name, email):\n",
    "    return cls(name, email)"
   ]
  },
  {
   "cell_type": "code",
   "execution_count": 48,
   "id": "e4cfc49c",
   "metadata": {},
   "outputs": [],
   "source": [
    "pwskills.set_details = classmethod(set_details)"
   ]
  },
  {
   "cell_type": "code",
   "execution_count": 49,
   "id": "7e406a74",
   "metadata": {},
   "outputs": [],
   "source": [
    "pw1 = pwskills.set_details(\"sudh\", \"sudh@gmail.com\")"
   ]
  },
  {
   "cell_type": "code",
   "execution_count": 51,
   "id": "7c00b3c4",
   "metadata": {},
   "outputs": [
    {
     "data": {
      "text/plain": [
       "'sudh'"
      ]
     },
     "execution_count": 51,
     "metadata": {},
     "output_type": "execute_result"
    }
   ],
   "source": [
    "pw1.name"
   ]
  },
  {
   "cell_type": "code",
   "execution_count": 53,
   "id": "cc78ca08",
   "metadata": {},
   "outputs": [
    {
     "data": {
      "text/plain": [
       "'sudh@gmail.com'"
      ]
     },
     "execution_count": 53,
     "metadata": {},
     "output_type": "execute_result"
    }
   ],
   "source": [
    "pw1.email"
   ]
  },
  {
   "cell_type": "code",
   "execution_count": null,
   "id": "993e2caa",
   "metadata": {},
   "outputs": [],
   "source": []
  }
 ],
 "metadata": {
  "kernelspec": {
   "display_name": "Python 3 (ipykernel)",
   "language": "python",
   "name": "python3"
  },
  "language_info": {
   "codemirror_mode": {
    "name": "ipython",
    "version": 3
   },
   "file_extension": ".py",
   "mimetype": "text/x-python",
   "name": "python",
   "nbconvert_exporter": "python",
   "pygments_lexer": "ipython3",
   "version": "3.10.10"
  }
 },
 "nbformat": 4,
 "nbformat_minor": 5
}
