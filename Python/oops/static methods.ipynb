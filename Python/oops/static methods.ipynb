{
 "cells": [
  {
   "cell_type": "code",
   "execution_count": 8,
   "id": "ec97b68e",
   "metadata": {},
   "outputs": [],
   "source": [
    "class pwskills:\n",
    "    \n",
    "    def student_details(self, name, mail_id, number):\n",
    "        print(name, mail_id, number)\n",
    "        "
   ]
  },
  {
   "cell_type": "code",
   "execution_count": 9,
   "id": "1445a7fd",
   "metadata": {},
   "outputs": [],
   "source": [
    "pw = pwskills()"
   ]
  },
  {
   "cell_type": "code",
   "execution_count": 10,
   "id": "ff344a90",
   "metadata": {},
   "outputs": [
    {
     "name": "stdout",
     "output_type": "stream",
     "text": [
      "sudh sudh@gmail.com 912342342\n"
     ]
    }
   ],
   "source": [
    "pw.student_details(\"sudh\", \"sudh@gmail.com\", 912342342)"
   ]
  },
  {
   "cell_type": "code",
   "execution_count": 11,
   "id": "2c746538",
   "metadata": {},
   "outputs": [
    {
     "name": "stdout",
     "output_type": "stream",
     "text": [
      "hello world\n"
     ]
    }
   ],
   "source": [
    "pwskills.greet()"
   ]
  },
  {
   "cell_type": "code",
   "execution_count": 19,
   "id": "6f8152bb",
   "metadata": {},
   "outputs": [],
   "source": [
    "class pwskills1:\n",
    "    \n",
    "    def student_details(self, name, mail_id, number):\n",
    "        print(name, mail_id, number)\n",
    "        \n",
    "    \n",
    "    \"\"\"\n",
    "    Advantage:\n",
    "    \n",
    "        static methods are used to create utility functions \n",
    "        like database connectivity, file system connectivity\n",
    "        or database storage connectivity etc..\n",
    "        \n",
    "        when we have to use one function multiple times\n",
    "        and we don't want to create multiple same functions\n",
    "        for each created instance then we use static method.\n",
    "        \n",
    "        similar to static method in java\n",
    "    \"\"\"\n",
    "    @staticmethod\n",
    "    def mentor_class(list_mentor):\n",
    "        print(list_mentor)\n",
    "        \n",
    "    def mentor(self, mentor_list):\n",
    "        print(mentor_list)"
   ]
  },
  {
   "cell_type": "code",
   "execution_count": 20,
   "id": "fd2ce7d2",
   "metadata": {},
   "outputs": [
    {
     "name": "stdout",
     "output_type": "stream",
     "text": [
      "['sudh', 'krish']\n"
     ]
    }
   ],
   "source": [
    "pwskills1.mentor_class([\"sudh\", \"krish\"])"
   ]
  },
  {
   "cell_type": "code",
   "execution_count": 6,
   "id": "e275fc2f",
   "metadata": {},
   "outputs": [],
   "source": [
    "class pwskills2:\n",
    "    \n",
    "    def student_details(self, name, mail_id, number):\n",
    "        print(name, mail_id, number)\n",
    "        \n",
    "    @staticmethod\n",
    "    def mentor_mail_id(mail_id_mentor):\n",
    "        print(mail_id_mentor)\n",
    "        \n",
    "    \"\"\"\n",
    "        calling static method inside a static method\n",
    "    \"\"\"\n",
    "    @staticmethod\n",
    "    def mentor_class(list_mentor):\n",
    "        pwskills2.mentor_mail_id([\"sudh@gmail.com\", \"krish@gmail.com\"])\n",
    "        print(list_mentor)\n",
    "        \n",
    "    \"\"\"\n",
    "        calling static method inside a class method\n",
    "    \"\"\"\n",
    "    @classmethod\n",
    "    def class_name(cls):\n",
    "        cls.mentor_class(['sudh', 'krish'])\n",
    "       \n",
    "    \"\"\"\n",
    "        calling static method inside instance method\n",
    "    \"\"\"\n",
    "    def mentor(self, mentor_list):\n",
    "        print(mentor_list)\n",
    "        self.mentor_class(['krish', 'sudh'])\n",
    "        \n",
    "    "
   ]
  },
  {
   "cell_type": "code",
   "execution_count": 7,
   "id": "2045b94f",
   "metadata": {},
   "outputs": [
    {
     "name": "stdout",
     "output_type": "stream",
     "text": [
      "['sudh@gmail.com', 'krish@gmail.com']\n",
      "['sudh', 'krish']\n"
     ]
    }
   ],
   "source": [
    "pwskills2.class_name()"
   ]
  },
  {
   "cell_type": "code",
   "execution_count": 8,
   "id": "9b35484b",
   "metadata": {},
   "outputs": [
    {
     "name": "stdout",
     "output_type": "stream",
     "text": [
      "['sudh@gmail.com', 'krish@gmail.com']\n",
      "['sudh', 'krish']\n"
     ]
    }
   ],
   "source": [
    "pwskills2.mentor_class(['sudh', 'krish'])"
   ]
  },
  {
   "cell_type": "code",
   "execution_count": 9,
   "id": "486a5280",
   "metadata": {},
   "outputs": [],
   "source": [
    "pw = pwskills2()"
   ]
  },
  {
   "cell_type": "code",
   "execution_count": 10,
   "id": "469ea2ae",
   "metadata": {},
   "outputs": [
    {
     "name": "stdout",
     "output_type": "stream",
     "text": [
      "['krish', 'sudh']\n",
      "['sudh@gmail.com', 'krish@gmail.com']\n",
      "['krish', 'sudh']\n"
     ]
    }
   ],
   "source": [
    "pw.mentor(['krish', 'sudh'])"
   ]
  },
  {
   "cell_type": "code",
   "execution_count": 1,
   "id": "d16a1f54",
   "metadata": {},
   "outputs": [],
   "source": [
    "class pwskills1:\n",
    "    \n",
    "    def __init__(self, name, mail_id, number):\n",
    "        self.name = name\n",
    "        self.mail_id = mail_id\n",
    "        self.number = number"
   ]
  },
  {
   "cell_type": "code",
   "execution_count": 2,
   "id": "585f38ec",
   "metadata": {},
   "outputs": [],
   "source": [
    "def mentor_class(list_mentor):\n",
    "    print(list_mentor)"
   ]
  },
  {
   "cell_type": "code",
   "execution_count": 3,
   "id": "0970ffbe",
   "metadata": {},
   "outputs": [],
   "source": [
    "pwskills1.mentor_class = staticmethod(mentor_class)"
   ]
  },
  {
   "cell_type": "code",
   "execution_count": 4,
   "id": "21c7d103",
   "metadata": {},
   "outputs": [
    {
     "name": "stdout",
     "output_type": "stream",
     "text": [
      "['sudh', 'krish']\n"
     ]
    }
   ],
   "source": [
    "pwskills1.mentor_class(['sudh', 'krish'])"
   ]
  },
  {
   "cell_type": "code",
   "execution_count": null,
   "id": "0108a7a3",
   "metadata": {},
   "outputs": [],
   "source": []
  }
 ],
 "metadata": {
  "kernelspec": {
   "display_name": "Python 3 (ipykernel)",
   "language": "python",
   "name": "python3"
  },
  "language_info": {
   "codemirror_mode": {
    "name": "ipython",
    "version": 3
   },
   "file_extension": ".py",
   "mimetype": "text/x-python",
   "name": "python",
   "nbconvert_exporter": "python",
   "pygments_lexer": "ipython3",
   "version": "3.10.10"
  }
 },
 "nbformat": 4,
 "nbformat_minor": 5
}
