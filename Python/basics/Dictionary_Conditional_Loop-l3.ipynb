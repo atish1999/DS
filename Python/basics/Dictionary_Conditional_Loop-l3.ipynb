{
 "cells": [
  {
   "cell_type": "code",
   "execution_count": 1,
   "id": "608e04a8",
   "metadata": {},
   "outputs": [],
   "source": [
    "d1 = {}"
   ]
  },
  {
   "cell_type": "code",
   "execution_count": 2,
   "id": "919db26b",
   "metadata": {},
   "outputs": [],
   "source": [
    "d2 = {'key' : \"sudhansu\"}"
   ]
  },
  {
   "cell_type": "code",
   "execution_count": 3,
   "id": "6d961e17",
   "metadata": {},
   "outputs": [
    {
     "data": {
      "text/plain": [
       "{'key': 'sudhansu'}"
      ]
     },
     "execution_count": 3,
     "metadata": {},
     "output_type": "execute_result"
    }
   ],
   "source": [
    "d2"
   ]
  },
  {
   "cell_type": "code",
   "execution_count": 4,
   "id": "450a857e",
   "metadata": {},
   "outputs": [],
   "source": [
    "d3 = { 'name' : \"sudhansu\", 'email': \"ss@gmail.com\", 'number':8848930}"
   ]
  },
  {
   "cell_type": "code",
   "execution_count": 5,
   "id": "7283bf8d",
   "metadata": {},
   "outputs": [
    {
     "data": {
      "text/plain": [
       "{'name': 'sudhansu', 'email': 'ss@gmail.com', 'number': 8848930}"
      ]
     },
     "execution_count": 5,
     "metadata": {},
     "output_type": "execute_result"
    }
   ],
   "source": [
    "d3"
   ]
  },
  {
   "cell_type": "code",
   "execution_count": 6,
   "id": "4448aa55",
   "metadata": {},
   "outputs": [
    {
     "data": {
      "text/plain": [
       "dict"
      ]
     },
     "execution_count": 6,
     "metadata": {},
     "output_type": "execute_result"
    }
   ],
   "source": [
    "type(d1)"
   ]
  },
  {
   "cell_type": "code",
   "execution_count": 7,
   "id": "6f303acd",
   "metadata": {},
   "outputs": [
    {
     "data": {
      "text/plain": [
       "dict"
      ]
     },
     "execution_count": 7,
     "metadata": {},
     "output_type": "execute_result"
    }
   ],
   "source": [
    "type(d2)"
   ]
  },
  {
   "cell_type": "code",
   "execution_count": 8,
   "id": "ddaf865c",
   "metadata": {},
   "outputs": [],
   "source": [
    "d3 = {234: 'sudh', '@wer': 'kumar', True: 'boolean', 3+4j: 'complex', 3.4: 'float'}"
   ]
  },
  {
   "cell_type": "code",
   "execution_count": 9,
   "id": "99b44b9c",
   "metadata": {},
   "outputs": [
    {
     "data": {
      "text/plain": [
       "{234: 'sudh',\n",
       " '@wer': 'kumar',\n",
       " True: 'boolean',\n",
       " (3+4j): 'complex',\n",
       " 3.4: 'float'}"
      ]
     },
     "execution_count": 9,
     "metadata": {},
     "output_type": "execute_result"
    }
   ],
   "source": [
    "d3"
   ]
  },
  {
   "cell_type": "code",
   "execution_count": 10,
   "id": "fc588e68",
   "metadata": {},
   "outputs": [
    {
     "data": {
      "text/plain": [
       "'sudh'"
      ]
     },
     "execution_count": 10,
     "metadata": {},
     "output_type": "execute_result"
    }
   ],
   "source": [
    "d3[234]"
   ]
  },
  {
   "cell_type": "code",
   "execution_count": 11,
   "id": "69513ee8",
   "metadata": {},
   "outputs": [
    {
     "data": {
      "text/plain": [
       "'kumar'"
      ]
     },
     "execution_count": 11,
     "metadata": {},
     "output_type": "execute_result"
    }
   ],
   "source": [
    "d3['@wer']"
   ]
  },
  {
   "cell_type": "code",
   "execution_count": 12,
   "id": "adeda912",
   "metadata": {},
   "outputs": [
    {
     "data": {
      "text/plain": [
       "'boolean'"
      ]
     },
     "execution_count": 12,
     "metadata": {},
     "output_type": "execute_result"
    }
   ],
   "source": [
    "d3[True]"
   ]
  },
  {
   "cell_type": "code",
   "execution_count": 13,
   "id": "b2ece5bb",
   "metadata": {},
   "outputs": [
    {
     "data": {
      "text/plain": [
       "'boolean'"
      ]
     },
     "execution_count": 13,
     "metadata": {},
     "output_type": "execute_result"
    }
   ],
   "source": [
    "d3[1]"
   ]
  },
  {
   "cell_type": "code",
   "execution_count": 14,
   "id": "9544772d",
   "metadata": {},
   "outputs": [
    {
     "data": {
      "text/plain": [
       "'float'"
      ]
     },
     "execution_count": 14,
     "metadata": {},
     "output_type": "execute_result"
    }
   ],
   "source": [
    "d3[3.4]"
   ]
  },
  {
   "cell_type": "code",
   "execution_count": 15,
   "id": "cdbbd70a",
   "metadata": {},
   "outputs": [
    {
     "data": {
      "text/plain": [
       "'complex'"
      ]
     },
     "execution_count": 15,
     "metadata": {},
     "output_type": "execute_result"
    }
   ],
   "source": [
    "d3[3+4j]"
   ]
  },
  {
   "cell_type": "code",
   "execution_count": 17,
   "id": "2a936c8f",
   "metadata": {},
   "outputs": [],
   "source": [
    "d4 = {\"name\": \"sudh\", \"mail_id\": \"ss@gmail.com\", \"name\": \"sudhansu\"}"
   ]
  },
  {
   "cell_type": "code",
   "execution_count": 18,
   "id": "35f1578a",
   "metadata": {},
   "outputs": [
    {
     "data": {
      "text/plain": [
       "'sudhansu'"
      ]
     },
     "execution_count": 18,
     "metadata": {},
     "output_type": "execute_result"
    }
   ],
   "source": [
    "d4[\"name\"]"
   ]
  },
  {
   "cell_type": "code",
   "execution_count": 19,
   "id": "02eeeb89",
   "metadata": {},
   "outputs": [],
   "source": [
    "# dictionary can contain list as values\n",
    "d5 = {\"company\": \"pwskills\", \"course\": [\"web dev\", \"data science\", \"java + DSA + System Design\"]}"
   ]
  },
  {
   "cell_type": "code",
   "execution_count": 20,
   "id": "a6d757f6",
   "metadata": {},
   "outputs": [
    {
     "data": {
      "text/plain": [
       "{'company': 'pwskills',\n",
       " 'course': ['web dev', 'data science', 'java + DSA + System Design']}"
      ]
     },
     "execution_count": 20,
     "metadata": {},
     "output_type": "execute_result"
    }
   ],
   "source": [
    "d5"
   ]
  },
  {
   "cell_type": "code",
   "execution_count": 21,
   "id": "e33f7097",
   "metadata": {},
   "outputs": [
    {
     "data": {
      "text/plain": [
       "['web dev', 'data science', 'java + DSA + System Design']"
      ]
     },
     "execution_count": 21,
     "metadata": {},
     "output_type": "execute_result"
    }
   ],
   "source": [
    "d5[\"course\"]"
   ]
  },
  {
   "cell_type": "code",
   "execution_count": 22,
   "id": "e8211de8",
   "metadata": {},
   "outputs": [
    {
     "data": {
      "text/plain": [
       "'data science'"
      ]
     },
     "execution_count": 22,
     "metadata": {},
     "output_type": "execute_result"
    }
   ],
   "source": [
    "# accessing data science from above dictionary\n",
    "d5[\"course\"][1]"
   ]
  },
  {
   "cell_type": "code",
   "execution_count": 25,
   "id": "7167e356",
   "metadata": {},
   "outputs": [],
   "source": [
    "d6 = { \n",
    "    \"number\": [12,23,11,10,9], # list as value\n",
    "    \"assignment\":(1,3,5,7),    # tuple as value\n",
    "    \"launch_date\": {12,14,28}, # set as value\n",
    "    \"class_time\": {            # dictionary as value\n",
    "        \"web dev\": 8,\n",
    "        \"data science\": 8,\n",
    "        \"java with system desing\": 7\n",
    "    }\n",
    "}"
   ]
  },
  {
   "cell_type": "code",
   "execution_count": 26,
   "id": "a0042c57",
   "metadata": {},
   "outputs": [
    {
     "data": {
      "text/plain": [
       "{'number': [12, 23, 11, 10, 9],\n",
       " 'assignment': (1, 3, 5, 7),\n",
       " 'launch_date': {12, 14, 28},\n",
       " 'class_time': {'web dev': 8, 'data science': 8, 'java with system desing': 7}}"
      ]
     },
     "execution_count": 26,
     "metadata": {},
     "output_type": "execute_result"
    }
   ],
   "source": [
    "d6"
   ]
  },
  {
   "cell_type": "code",
   "execution_count": 27,
   "id": "43ddfbf7",
   "metadata": {},
   "outputs": [
    {
     "data": {
      "text/plain": [
       "7"
      ]
     },
     "execution_count": 27,
     "metadata": {},
     "output_type": "execute_result"
    }
   ],
   "source": [
    "# print class timing of 'java with system desing'\n",
    "d6['class_time']['java with system desing']"
   ]
  },
  {
   "cell_type": "code",
   "execution_count": 28,
   "id": "e5aadb65",
   "metadata": {},
   "outputs": [],
   "source": [
    "d6['mentor'] = ['sudhansu', 'krish', 'anurag']"
   ]
  },
  {
   "cell_type": "code",
   "execution_count": 29,
   "id": "981ba65d",
   "metadata": {},
   "outputs": [
    {
     "data": {
      "text/plain": [
       "{'number': [12, 23, 11, 10, 9],\n",
       " 'assignment': (1, 3, 5, 7),\n",
       " 'launch_date': {12, 14, 28},\n",
       " 'class_time': {'web dev': 8, 'data science': 8, 'java with system desing': 7},\n",
       " 'mentor': ['sudhansu', 'krish', 'anurag']}"
      ]
     },
     "execution_count": 29,
     "metadata": {},
     "output_type": "execute_result"
    }
   ],
   "source": [
    "d6"
   ]
  },
  {
   "cell_type": "code",
   "execution_count": 30,
   "id": "25ba1493",
   "metadata": {},
   "outputs": [],
   "source": [
    "# deleting key-value pair from d6 -> 'number' key is getting deleted\n",
    "del d6['number'] \n",
    "#  or\n",
    "d6.pop('number')"
   ]
  },
  {
   "cell_type": "code",
   "execution_count": 31,
   "id": "99211889",
   "metadata": {},
   "outputs": [
    {
     "data": {
      "text/plain": [
       "{'assignment': (1, 3, 5, 7),\n",
       " 'launch_date': {12, 14, 28},\n",
       " 'class_time': {'web dev': 8, 'data science': 8, 'java with system desing': 7},\n",
       " 'mentor': ['sudhansu', 'krish', 'anurag']}"
      ]
     },
     "execution_count": 31,
     "metadata": {},
     "output_type": "execute_result"
    }
   ],
   "source": [
    "d6"
   ]
  },
  {
   "cell_type": "code",
   "execution_count": 32,
   "id": "0201505a",
   "metadata": {},
   "outputs": [
    {
     "data": {
      "text/plain": [
       "dict_keys(['assignment', 'launch_date', 'class_time', 'mentor'])"
      ]
     },
     "execution_count": 32,
     "metadata": {},
     "output_type": "execute_result"
    }
   ],
   "source": [
    "# get all keys present in dictionary in list format\n",
    "d6.keys()"
   ]
  },
  {
   "cell_type": "code",
   "execution_count": 34,
   "id": "02955457",
   "metadata": {},
   "outputs": [
    {
     "data": {
      "text/plain": [
       "['assignment', 'launch_date', 'class_time', 'mentor']"
      ]
     },
     "execution_count": 34,
     "metadata": {},
     "output_type": "execute_result"
    }
   ],
   "source": [
    "list(d6.keys()) # getting the output in actual list format"
   ]
  },
  {
   "cell_type": "code",
   "execution_count": 36,
   "id": "3a96157d",
   "metadata": {},
   "outputs": [
    {
     "data": {
      "text/plain": [
       "dict_values([(1, 3, 5, 7), {12, 28, 14}, {'web dev': 8, 'data science': 8, 'java with system desing': 7}, ['sudhansu', 'krish', 'anurag']])"
      ]
     },
     "execution_count": 36,
     "metadata": {},
     "output_type": "execute_result"
    }
   ],
   "source": [
    "# get all values present in dictionary in list format\n",
    "d6.values()"
   ]
  },
  {
   "cell_type": "code",
   "execution_count": 37,
   "id": "293554cd",
   "metadata": {},
   "outputs": [
    {
     "data": {
      "text/plain": [
       "[(1, 3, 5, 7),\n",
       " {12, 14, 28},\n",
       " {'web dev': 8, 'data science': 8, 'java with system desing': 7},\n",
       " ['sudhansu', 'krish', 'anurag']]"
      ]
     },
     "execution_count": 37,
     "metadata": {},
     "output_type": "execute_result"
    }
   ],
   "source": [
    "list(d6.values()) # getting the output in actual list format"
   ]
  },
  {
   "cell_type": "code",
   "execution_count": 39,
   "id": "06679593",
   "metadata": {},
   "outputs": [
    {
     "data": {
      "text/plain": [
       "dict_items([('assignment', (1, 3, 5, 7)), ('launch_date', {12, 28, 14}), ('class_time', {'web dev': 8, 'data science': 8, 'java with system desing': 7}), ('mentor', ['sudhansu', 'krish', 'anurag'])])"
      ]
     },
     "execution_count": 39,
     "metadata": {},
     "output_type": "execute_result"
    }
   ],
   "source": [
    "# get all the items present in dictionary\n",
    "d6.items()"
   ]
  },
  {
   "cell_type": "code",
   "execution_count": 40,
   "id": "fcbf68eb",
   "metadata": {},
   "outputs": [
    {
     "data": {
      "text/plain": [
       "[('assignment', (1, 3, 5, 7)),\n",
       " ('launch_date', {12, 14, 28}),\n",
       " ('class_time',\n",
       "  {'web dev': 8, 'data science': 8, 'java with system desing': 7}),\n",
       " ('mentor', ['sudhansu', 'krish', 'anurag'])]"
      ]
     },
     "execution_count": 40,
     "metadata": {},
     "output_type": "execute_result"
    }
   ],
   "source": [
    "list(d6.items()) # getting the output in actual list format"
   ]
  },
  {
   "cell_type": "code",
   "execution_count": 41,
   "id": "819bd584",
   "metadata": {},
   "outputs": [
    {
     "data": {
      "text/plain": [
       "(1, 3, 5, 7)"
      ]
     },
     "execution_count": 41,
     "metadata": {},
     "output_type": "execute_result"
    }
   ],
   "source": [
    "# deleting elements using pop()\n",
    "d6.pop('assignment')"
   ]
  },
  {
   "cell_type": "code",
   "execution_count": 42,
   "id": "e945a41b",
   "metadata": {},
   "outputs": [],
   "source": [
    "### control flow"
   ]
  },
  {
   "cell_type": "code",
   "execution_count": 9,
   "id": "1ee66202",
   "metadata": {},
   "outputs": [
    {
     "name": "stdout",
     "output_type": "stream",
     "text": [
      "Enter the marks 10\n",
      "you will be in A3 batch\n"
     ]
    }
   ],
   "source": [
    "marks = int(input(\"Enter the marks \"))\n",
    "\n",
    "if marks >= 80:\n",
    "    print(\"you will be in A0 batch\")\n",
    "elif marks >= 60:\n",
    "    print(\"you will be in A1 batch\")\n",
    "elif marks >= 40:\n",
    "    print(\"you will be in A2 batch\")\n",
    "else:\n",
    "    print(\"you will be in A3 batch\")"
   ]
  },
  {
   "cell_type": "code",
   "execution_count": 14,
   "id": "8258f5a9",
   "metadata": {},
   "outputs": [
    {
     "name": "stdout",
     "output_type": "stream",
     "text": [
      "Enter the price 250\n",
      "I will purchase\n",
      "It is low-medium quality product\n"
     ]
    }
   ],
   "source": [
    "\n",
    "price = int(input(\"Enter the price \"))\n",
    "\n",
    "if price > 1000:\n",
    "    print(\"I will not purchase\")\n",
    "    if price > 5000:\n",
    "        print(\"This is too much\")\n",
    "    elif price < 2000:\n",
    "        print(\"It's ok\")\n",
    "elif price < 1000:\n",
    "    print(\"I will purchase\")\n",
    "    if price > 500:\n",
    "        print(\"It is high-medium quality product\")\n",
    "    else:\n",
    "        print(\"It is low-medium quality product\")\n",
    "else:\n",
    "    print(\"not interested\")\n",
    "    \n",
    "    "
   ]
  },
  {
   "cell_type": "code",
   "execution_count": 15,
   "id": "f054cfd0",
   "metadata": {},
   "outputs": [],
   "source": [
    "# loop"
   ]
  },
  {
   "cell_type": "code",
   "execution_count": 34,
   "id": "7c2a7ce2",
   "metadata": {},
   "outputs": [],
   "source": [
    "l = [1,2,3,4,5,6,7,8,9]"
   ]
  },
  {
   "cell_type": "code",
   "execution_count": 35,
   "id": "70c96bb2",
   "metadata": {},
   "outputs": [
    {
     "name": "stdout",
     "output_type": "stream",
     "text": [
      "1\n",
      "2\n",
      "3\n",
      "4\n",
      "5\n",
      "6\n",
      "7\n",
      "8\n",
      "9\n"
     ]
    }
   ],
   "source": [
    "for element in l:\n",
    "    print(element)\n"
   ]
  },
  {
   "cell_type": "code",
   "execution_count": 36,
   "id": "3ac641dc",
   "metadata": {},
   "outputs": [
    {
     "name": "stdout",
     "output_type": "stream",
     "text": [
      "[2, 3, 4, 5, 6, 7, 8, 9, 10]\n"
     ]
    }
   ],
   "source": [
    "l = [1,2,3,4,5,6,7,8,9]\n",
    "# add 1 to every element of list l and return those as a list\n",
    "\n",
    "# Approach - 1\n",
    "l1 = []\n",
    "for e in l:\n",
    "    l1.append(e+1)\n",
    "print(l1)"
   ]
  },
  {
   "cell_type": "code",
   "execution_count": 37,
   "id": "0a3735f4",
   "metadata": {},
   "outputs": [
    {
     "name": "stdout",
     "output_type": "stream",
     "text": [
      "[2, 3, 4, 5, 6, 7, 8, 9, 10]\n"
     ]
    }
   ],
   "source": [
    "# Approach -2 \n",
    "for index in range(len(l)):\n",
    "    l[index]+=1\n",
    "print(l)\n",
    "    "
   ]
  },
  {
   "cell_type": "code",
   "execution_count": 38,
   "id": "fa481e09",
   "metadata": {},
   "outputs": [],
   "source": [
    "l = [\"sudh\", \"kumar\", \"pwskills\", \"course\"]"
   ]
  },
  {
   "cell_type": "code",
   "execution_count": 39,
   "id": "b1e96ca7",
   "metadata": {},
   "outputs": [
    {
     "data": {
      "text/plain": [
       "['SUDH', 'KUMAR', 'PWSKILLS', 'COURSE']"
      ]
     },
     "execution_count": 39,
     "metadata": {},
     "output_type": "execute_result"
    }
   ],
   "source": [
    "# convert each element of list in uppercase\n",
    "# and then give all of them in a list\n",
    "l1 = []\n",
    "for s in l:\n",
    "    l1.append(s.upper())\n",
    "l1"
   ]
  },
  {
   "cell_type": "code",
   "execution_count": 40,
   "id": "f8b1b6a1",
   "metadata": {},
   "outputs": [],
   "source": [
    "l = [1,2,3,4,4,\"sudh\", \"kumar\", 324, 34.456, \"abc\"]"
   ]
  },
  {
   "cell_type": "code",
   "execution_count": 56,
   "id": "c37fd51e",
   "metadata": {},
   "outputs": [
    {
     "name": "stdout",
     "output_type": "stream",
     "text": [
      "[1, 2, 3, 4, 4, 324, 34.456]\n",
      "['sudh', 'kumar', 'abc']\n"
     ]
    }
   ],
   "source": [
    "# make 2 sepaerate list l1 and l2 where \n",
    "# l1 should contain only numbers from l\n",
    "# l2 should contain only strings from l\n",
    "\n",
    "l1 = [] # it will store numbers\n",
    "l2 = [] # it will store strings\n",
    "\n",
    "\n",
    "\n",
    "for e in l:\n",
    "    if type(e) == int or type(e) == float:\n",
    "        l1.append(e)\n",
    "    if type(e) == str:\n",
    "        l2.append(e)"
   ]
  },
  {
   "cell_type": "code",
   "execution_count": 57,
   "id": "f6a48435",
   "metadata": {},
   "outputs": [
    {
     "data": {
      "text/plain": [
       "[1, 2, 3, 4, 4, 324, 34.456]"
      ]
     },
     "execution_count": 57,
     "metadata": {},
     "output_type": "execute_result"
    }
   ],
   "source": [
    "l1"
   ]
  },
  {
   "cell_type": "code",
   "execution_count": 58,
   "id": "0dde3fee",
   "metadata": {},
   "outputs": [
    {
     "data": {
      "text/plain": [
       "['sudh', 'kumar', 'abc']"
      ]
     },
     "execution_count": 58,
     "metadata": {},
     "output_type": "execute_result"
    }
   ],
   "source": [
    "l2"
   ]
  },
  {
   "cell_type": "code",
   "execution_count": 6,
   "id": "a630de72",
   "metadata": {},
   "outputs": [],
   "source": [
    "s = \"p w s k i l l s\""
   ]
  },
  {
   "cell_type": "code",
   "execution_count": 9,
   "id": "c0b94cd8",
   "metadata": {},
   "outputs": [],
   "source": [
    "s = \"\".join(s.replace(\" \", \"\"))"
   ]
  },
  {
   "cell_type": "code",
   "execution_count": 10,
   "id": "9107c124",
   "metadata": {},
   "outputs": [
    {
     "data": {
      "text/plain": [
       "'pwskills'"
      ]
     },
     "execution_count": 10,
     "metadata": {},
     "output_type": "execute_result"
    }
   ],
   "source": [
    "s"
   ]
  },
  {
   "cell_type": "code",
   "execution_count": 11,
   "id": "6d765546",
   "metadata": {},
   "outputs": [
    {
     "data": {
      "text/plain": [
       "'Pwskills'"
      ]
     },
     "execution_count": 11,
     "metadata": {},
     "output_type": "execute_result"
    }
   ],
   "source": [
    "s.capitalize()"
   ]
  },
  {
   "cell_type": "code",
   "execution_count": 13,
   "id": "bb60a3d4",
   "metadata": {},
   "outputs": [
    {
     "data": {
      "text/plain": [
       "'Pwskills'"
      ]
     },
     "execution_count": 13,
     "metadata": {},
     "output_type": "execute_result"
    }
   ],
   "source": [
    "s.title()"
   ]
  },
  {
   "cell_type": "code",
   "execution_count": null,
   "id": "165ca425",
   "metadata": {},
   "outputs": [],
   "source": []
  }
 ],
 "metadata": {
  "kernelspec": {
   "display_name": "Python 3 (ipykernel)",
   "language": "python",
   "name": "python3"
  },
  "language_info": {
   "codemirror_mode": {
    "name": "ipython",
    "version": 3
   },
   "file_extension": ".py",
   "mimetype": "text/x-python",
   "name": "python",
   "nbconvert_exporter": "python",
   "pygments_lexer": "ipython3",
   "version": "3.9.13"
  }
 },
 "nbformat": 4,
 "nbformat_minor": 5
}
