{
 "cells": [
  {
   "cell_type": "code",
   "execution_count": 18,
   "id": "41d0af39",
   "metadata": {},
   "outputs": [],
   "source": [
    "# List comprehension"
   ]
  },
  {
   "cell_type": "code",
   "execution_count": 19,
   "id": "3bbb8beb",
   "metadata": {},
   "outputs": [],
   "source": [
    "l = [1, 2, 3, 4, 5, 45, 6]"
   ]
  },
  {
   "cell_type": "code",
   "execution_count": 3,
   "id": "5e9b430a",
   "metadata": {},
   "outputs": [],
   "source": [
    "\n",
    "# make another list which should contain the square of each elements of l\n"
   ]
  },
  {
   "cell_type": "code",
   "execution_count": 4,
   "id": "3e272f76",
   "metadata": {},
   "outputs": [],
   "source": [
    "# Approach-1 [we can do this normally]\n",
    "\n",
    "l1 = []\n",
    "\n",
    "for e in l:\n",
    "    l1.append(e**2)"
   ]
  },
  {
   "cell_type": "code",
   "execution_count": 5,
   "id": "270319e9",
   "metadata": {},
   "outputs": [
    {
     "data": {
      "text/plain": [
       "[1, 4, 9, 16, 25, 2025, 36]"
      ]
     },
     "execution_count": 5,
     "metadata": {},
     "output_type": "execute_result"
    }
   ],
   "source": [
    "l1"
   ]
  },
  {
   "cell_type": "code",
   "execution_count": 6,
   "id": "1f0cb43c",
   "metadata": {},
   "outputs": [
    {
     "data": {
      "text/plain": [
       "[1, 4, 9, 16, 25, 2025, 36]"
      ]
     },
     "execution_count": 6,
     "metadata": {},
     "output_type": "execute_result"
    }
   ],
   "source": [
    "# Approach-2 [using list comprehension]\n",
    "[item**2 for item in l]"
   ]
  },
  {
   "cell_type": "code",
   "execution_count": 38,
   "id": "2179f1a8",
   "metadata": {},
   "outputs": [],
   "source": [
    "# make a list using list compreshension\n",
    "# which should contain square of only even numbers of l"
   ]
  },
  {
   "cell_type": "code",
   "execution_count": 7,
   "id": "9d18d589",
   "metadata": {},
   "outputs": [
    {
     "data": {
      "text/plain": [
       "[4, 16, 36]"
      ]
     },
     "execution_count": 7,
     "metadata": {},
     "output_type": "execute_result"
    }
   ],
   "source": [
    "[i**2 for i in l if i%2==0]"
   ]
  },
  {
   "cell_type": "code",
   "execution_count": 8,
   "id": "5e908e34",
   "metadata": {},
   "outputs": [],
   "source": [
    "l1 = ['sudh', \"pwskills\", \"data science masters\"]"
   ]
  },
  {
   "cell_type": "code",
   "execution_count": 9,
   "id": "e53018dc",
   "metadata": {},
   "outputs": [],
   "source": [
    "# convert all the elements into uppercase of l1\n",
    "# and return all of them as list"
   ]
  },
  {
   "cell_type": "code",
   "execution_count": 10,
   "id": "a1b6f1db",
   "metadata": {},
   "outputs": [
    {
     "data": {
      "text/plain": [
       "['SUDH', 'PWSKILLS', 'DATA SCIENCE MASTERS']"
      ]
     },
     "execution_count": 10,
     "metadata": {},
     "output_type": "execute_result"
    }
   ],
   "source": [
    "[st.upper() for st in l1]"
   ]
  },
  {
   "cell_type": "code",
   "execution_count": null,
   "id": "7b06324a",
   "metadata": {},
   "outputs": [],
   "source": [
    "# tuple comprehension"
   ]
  },
  {
   "cell_type": "code",
   "execution_count": 11,
   "id": "d6634566",
   "metadata": {},
   "outputs": [
    {
     "data": {
      "text/plain": [
       "[1, 2, 3, 4, 5, 45, 6]"
      ]
     },
     "execution_count": 11,
     "metadata": {},
     "output_type": "execute_result"
    }
   ],
   "source": [
    "l"
   ]
  },
  {
   "cell_type": "code",
   "execution_count": 15,
   "id": "c7e5bcba",
   "metadata": {},
   "outputs": [],
   "source": [
    "t = (i**2 for i in l)"
   ]
  },
  {
   "cell_type": "code",
   "execution_count": 16,
   "id": "a776a95c",
   "metadata": {},
   "outputs": [
    {
     "data": {
      "text/plain": [
       "<generator object <genexpr> at 0x7fc1ac177a50>"
      ]
     },
     "execution_count": 16,
     "metadata": {},
     "output_type": "execute_result"
    }
   ],
   "source": [
    "t"
   ]
  },
  {
   "cell_type": "code",
   "execution_count": 17,
   "id": "287467db",
   "metadata": {},
   "outputs": [
    {
     "data": {
      "text/plain": [
       "(1, 4, 9, 16, 25, 2025, 36)"
      ]
     },
     "execution_count": 17,
     "metadata": {},
     "output_type": "execute_result"
    }
   ],
   "source": [
    "tuple(t)"
   ]
  },
  {
   "cell_type": "code",
   "execution_count": 20,
   "id": "7b83bdcb",
   "metadata": {},
   "outputs": [],
   "source": [
    "# dictionary comprehension"
   ]
  },
  {
   "cell_type": "code",
   "execution_count": 25,
   "id": "ac0dbd5c",
   "metadata": {},
   "outputs": [],
   "source": [
    "d = {\n",
    "    \"key1\":1,\n",
    "    \"key2\":2,\n",
    "    \"key3\":3,\n",
    "    \"key4\":4,\n",
    "}"
   ]
  },
  {
   "cell_type": "code",
   "execution_count": 33,
   "id": "2914580a",
   "metadata": {},
   "outputs": [],
   "source": [
    "# return a dictionary which contains the square of all values of d\n",
    "# key should not be altered. only values will be modified"
   ]
  },
  {
   "cell_type": "code",
   "execution_count": 34,
   "id": "f72edad5",
   "metadata": {},
   "outputs": [
    {
     "data": {
      "text/plain": [
       "{'key1': 1, 'key2': 4, 'key3': 9, 'key4': 16}"
      ]
     },
     "execution_count": 34,
     "metadata": {},
     "output_type": "execute_result"
    }
   ],
   "source": [
    "{k:v**2 for k,v in d.items()}"
   ]
  },
  {
   "cell_type": "code",
   "execution_count": 35,
   "id": "70e96ec7",
   "metadata": {},
   "outputs": [],
   "source": [
    "# return a dictionary which contains the square of all values of d\n",
    "# key should not be altered. only values will be modified\n",
    "# but only those values of d will be modified which has value greater than 1"
   ]
  },
  {
   "cell_type": "code",
   "execution_count": 37,
   "id": "c5e16b22",
   "metadata": {},
   "outputs": [
    {
     "data": {
      "text/plain": [
       "{'key2': 4, 'key3': 9, 'key4': 16}"
      ]
     },
     "execution_count": 37,
     "metadata": {},
     "output_type": "execute_result"
    }
   ],
   "source": [
    "{k:v**2 for k,v in d.items() if v>1}"
   ]
  },
  {
   "cell_type": "code",
   "execution_count": null,
   "id": "2cf4496f",
   "metadata": {},
   "outputs": [],
   "source": []
  }
 ],
 "metadata": {
  "kernelspec": {
   "display_name": "Python 3 (ipykernel)",
   "language": "python",
   "name": "python3"
  },
  "language_info": {
   "codemirror_mode": {
    "name": "ipython",
    "version": 3
   },
   "file_extension": ".py",
   "mimetype": "text/x-python",
   "name": "python",
   "nbconvert_exporter": "python",
   "pygments_lexer": "ipython3",
   "version": "3.9.13"
  }
 },
 "nbformat": 4,
 "nbformat_minor": 5
}
