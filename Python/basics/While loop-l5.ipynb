{
 "cells": [
  {
   "cell_type": "code",
   "execution_count": 42,
   "id": "c55ddcea",
   "metadata": {},
   "outputs": [],
   "source": [
    "# Multi variable assignment\n",
    "\n",
    "a,b = 1,2\n",
    "\n",
    "# Assignment operation always works from right to left in Python\n",
    "# here on the right a tuple of (1,2) has been created\n",
    "# then it is iterated over and its consequent values are assigned \n",
    "# to the comma separated list of variables on the left i.e. on a & b\n"
   ]
  },
  {
   "cell_type": "code",
   "execution_count": 43,
   "id": "becd7b90",
   "metadata": {},
   "outputs": [],
   "source": [
    "#  1. common use is when we want to assign new values based on existing values\n",
    "# example-(a)\n",
    "a=10\n",
    "b=5\n",
    "a,b = a+b, a*b"
   ]
  },
  {
   "cell_type": "code",
   "execution_count": 44,
   "id": "97dd6c2a",
   "metadata": {},
   "outputs": [
    {
     "data": {
      "text/plain": [
       "(15, 50)"
      ]
     },
     "execution_count": 44,
     "metadata": {},
     "output_type": "execute_result"
    }
   ],
   "source": [
    "a,b"
   ]
  },
  {
   "cell_type": "code",
   "execution_count": 45,
   "id": "6e029d4c",
   "metadata": {},
   "outputs": [],
   "source": [
    "# example-(b)\n",
    "a = 10\n",
    "b = 5\n",
    "a = a+b\n",
    "b = a*b"
   ]
  },
  {
   "cell_type": "code",
   "execution_count": 46,
   "id": "1a49abff",
   "metadata": {},
   "outputs": [
    {
     "data": {
      "text/plain": [
       "(15, 75)"
      ]
     },
     "execution_count": 46,
     "metadata": {},
     "output_type": "execute_result"
    }
   ],
   "source": [
    "a,b"
   ]
  },
  {
   "cell_type": "code",
   "execution_count": 47,
   "id": "66975899",
   "metadata": {},
   "outputs": [],
   "source": [
    "#  2. common use is when we want to swap values\n",
    "a = 10\n",
    "b = 11\n",
    "\n",
    "# swap\n",
    "a,b = b,a"
   ]
  },
  {
   "cell_type": "code",
   "execution_count": 48,
   "id": "af4962be",
   "metadata": {},
   "outputs": [
    {
     "data": {
      "text/plain": [
       "(11, 10)"
      ]
     },
     "execution_count": 48,
     "metadata": {},
     "output_type": "execute_result"
    }
   ],
   "source": [
    "a,b"
   ]
  },
  {
   "cell_type": "code",
   "execution_count": 41,
   "id": "762aaa44",
   "metadata": {},
   "outputs": [
    {
     "name": "stdout",
     "output_type": "stream",
     "text": [
      "1\n",
      "2\n",
      "3\n",
      "4\n",
      "5\n",
      "6\n",
      "7\n",
      "8\n",
      "9\n",
      "10\n"
     ]
    }
   ],
   "source": [
    "a = 1\n",
    "\n",
    "while a <= 10:\n",
    "    print(a)\n",
    "    a = a + 1"
   ]
  },
  {
   "cell_type": "code",
   "execution_count": 76,
   "id": "f60b5d51",
   "metadata": {},
   "outputs": [
    {
     "name": "stdout",
     "output_type": "stream",
     "text": [
      "Enter the limit\n",
      "5\n",
      "15\n"
     ]
    }
   ],
   "source": [
    "# sum up the number till some point\n",
    "n = int(input(\"Enter the limit\\n\"))\n",
    "result = 0\n",
    "starting_point = 1\n",
    "\n",
    "while starting_point <= n:\n",
    "    result += starting_point\n",
    "    starting_point += 1\n",
    "    \n",
    "print(result)"
   ]
  },
  {
   "cell_type": "code",
   "execution_count": 9,
   "id": "39742449",
   "metadata": {},
   "outputs": [
    {
     "name": "stdout",
     "output_type": "stream",
     "text": [
      "Enter the number\n",
      "5\n",
      "120\n"
     ]
    }
   ],
   "source": [
    "# calculate factorial\n",
    "n = int(input(\"Enter the number\\n\"))\n",
    "fact = 1\n",
    "while n > 0:\n",
    "    fact *= n\n",
    "    n-=1\n",
    "print(fact)"
   ]
  },
  {
   "cell_type": "code",
   "execution_count": 52,
   "id": "9a86d916",
   "metadata": {},
   "outputs": [
    {
     "name": "stdout",
     "output_type": "stream",
     "text": [
      "Enter the no of fibonacci numbers\n",
      "10\n",
      "0 1 1 2 3 5 8 13 21 34 "
     ]
    }
   ],
   "source": [
    "# Fibonacci series\n",
    "# Approach-1 (using while loop)\n",
    "n = int(input(\"Enter the no of fibonacci numbers\\n\"))\n",
    "\n",
    "a,b = 0,1 # multi variable assignment\n",
    "\n",
    "while n > 0:\n",
    "    print(a, end=' ')\n",
    "    c = a + b\n",
    "    a = b\n",
    "    b = c\n",
    "    n-=1"
   ]
  },
  {
   "cell_type": "code",
   "execution_count": 53,
   "id": "bfbe6525",
   "metadata": {},
   "outputs": [
    {
     "name": "stdout",
     "output_type": "stream",
     "text": [
      "Enter the no. of fibonacci numbers\n",
      "10\n",
      "0 1 1 2 3 5 8 13 21 34 "
     ]
    }
   ],
   "source": [
    "# Approach-2 (using for loop)\n",
    "n = int(input(\"Enter the no. of fibonacci numbers\\n\"))\n",
    "\n",
    "a,b=0,1\n",
    "\n",
    "for i in range(n):\n",
    "    print(a, end=' ')\n",
    "    c = a+b\n",
    "    a,b=b,c # multi variable assignment\n"
   ]
  },
  {
   "cell_type": "code",
   "execution_count": 64,
   "id": "80ff2f63",
   "metadata": {},
   "outputs": [
    {
     "name": "stdout",
     "output_type": "stream",
     "text": [
      "Enter string for reversal\n",
      "krishnaik\n"
     ]
    }
   ],
   "source": [
    "s = input(\"Enter string for reversal\\n\")"
   ]
  },
  {
   "cell_type": "code",
   "execution_count": 69,
   "id": "5b9455fd",
   "metadata": {},
   "outputs": [
    {
     "name": "stdout",
     "output_type": "stream",
     "text": [
      "kianhsirk\n"
     ]
    }
   ],
   "source": [
    "# reverse the above string s using while loop\n",
    "index = len(s)-1\n",
    "reverse = ''\n",
    "while index >= 0:\n",
    "    reverse += s[index]\n",
    "    index -= 1\n",
    "print(reverse)"
   ]
  },
  {
   "cell_type": "code",
   "execution_count": 72,
   "id": "96cb64c9",
   "metadata": {},
   "outputs": [
    {
     "name": "stdout",
     "output_type": "stream",
     "text": [
      "Enter the number whose table you want to show\n",
      "2\n",
      "2  x  1  =  2\n",
      "2  x  2  =  4\n",
      "2  x  3  =  6\n",
      "2  x  4  =  8\n",
      "2  x  5  =  10\n",
      "2  x  6  =  12\n",
      "2  x  7  =  14\n",
      "2  x  8  =  16\n",
      "2  x  9  =  18\n",
      "2  x  10  =  20\n"
     ]
    }
   ],
   "source": [
    "# print table of numbers\n",
    "n = int(input(\"Enter the number whose table you want to show\\n\"))\n",
    "\n",
    "count = 1\n",
    "\n",
    "while count <= 10:\n",
    "    print(n,\" x \",count,\" = \",(n*count))\n",
    "    count+=1"
   ]
  },
  {
   "cell_type": "code",
   "execution_count": 74,
   "id": "fe972acf",
   "metadata": {},
   "outputs": [
    {
     "name": "stdout",
     "output_type": "stream",
     "text": [
      "1\n",
      "2\n",
      "3\n"
     ]
    }
   ],
   "source": [
    "# while - else loop\n",
    "\n",
    "n = 5\n",
    "i = 1\n",
    "\n",
    "while i < n:\n",
    "    print(i)\n",
    "    i+=1\n",
    "else:\n",
    "    print(\"while loop has been executed successfully\")"
   ]
  },
  {
   "cell_type": "code",
   "execution_count": 75,
   "id": "c56b3763",
   "metadata": {},
   "outputs": [
    {
     "name": "stdout",
     "output_type": "stream",
     "text": [
      "1\n",
      "2\n",
      "3\n"
     ]
    }
   ],
   "source": [
    "\n",
    "n = 5\n",
    "i = 1\n",
    "\n",
    "while i < n:\n",
    "    print(i)\n",
    "    if i==3:\n",
    "        break\n",
    "    i+=1\n",
    "else:\n",
    "    print(\"while loop has been executed successfully\")"
   ]
  },
  {
   "cell_type": "code",
   "execution_count": null,
   "id": "da303be2",
   "metadata": {},
   "outputs": [],
   "source": []
  }
 ],
 "metadata": {
  "kernelspec": {
   "display_name": "Python 3 (ipykernel)",
   "language": "python",
   "name": "python3"
  },
  "language_info": {
   "codemirror_mode": {
    "name": "ipython",
    "version": 3
   },
   "file_extension": ".py",
   "mimetype": "text/x-python",
   "name": "python",
   "nbconvert_exporter": "python",
   "pygments_lexer": "ipython3",
   "version": "3.9.13"
  }
 },
 "nbformat": 4,
 "nbformat_minor": 5
}
