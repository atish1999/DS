{
 "cells": [
  {
   "cell_type": "code",
   "execution_count": 2,
   "id": "2895a353",
   "metadata": {},
   "outputs": [],
   "source": [
    "def test():\n",
    "    pass"
   ]
  },
  {
   "cell_type": "code",
   "execution_count": 11,
   "id": "5d5caedb",
   "metadata": {},
   "outputs": [],
   "source": [
    "def test1():\n",
    "    print(\"This is my first function\")"
   ]
  },
  {
   "cell_type": "code",
   "execution_count": 12,
   "id": "23077ef5",
   "metadata": {},
   "outputs": [
    {
     "name": "stdout",
     "output_type": "stream",
     "text": [
      "This is my first function\n"
     ]
    }
   ],
   "source": [
    "test1()"
   ]
  },
  {
   "cell_type": "code",
   "execution_count": 13,
   "id": "510e908e",
   "metadata": {},
   "outputs": [
    {
     "name": "stdout",
     "output_type": "stream",
     "text": [
      "This is my first function\n"
     ]
    },
    {
     "data": {
      "text/plain": [
       "'None'"
      ]
     },
     "execution_count": 13,
     "metadata": {},
     "output_type": "execute_result"
    }
   ],
   "source": [
    "str(test1())"
   ]
  },
  {
   "cell_type": "code",
   "execution_count": 14,
   "id": "50c06139",
   "metadata": {},
   "outputs": [
    {
     "name": "stdout",
     "output_type": "stream",
     "text": [
      "This is my first function\n"
     ]
    },
    {
     "ename": "TypeError",
     "evalue": "unsupported operand type(s) for +: 'NoneType' and 'str'",
     "output_type": "error",
     "traceback": [
      "\u001b[0;31m---------------------------------------------------------------------------\u001b[0m",
      "\u001b[0;31mTypeError\u001b[0m                                 Traceback (most recent call last)",
      "\u001b[0;32m/tmp/ipykernel_9705/1921401798.py\u001b[0m in \u001b[0;36m<module>\u001b[0;34m\u001b[0m\n\u001b[0;32m----> 1\u001b[0;31m \u001b[0mtest1\u001b[0m\u001b[0;34m(\u001b[0m\u001b[0;34m)\u001b[0m \u001b[0;34m+\u001b[0m \u001b[0;34m\" sudh\"\u001b[0m\u001b[0;34m\u001b[0m\u001b[0;34m\u001b[0m\u001b[0m\n\u001b[0m",
      "\u001b[0;31mTypeError\u001b[0m: unsupported operand type(s) for +: 'NoneType' and 'str'"
     ]
    }
   ],
   "source": [
    "test1() + \" sudh\""
   ]
  },
  {
   "cell_type": "code",
   "execution_count": 19,
   "id": "25d778d6",
   "metadata": {},
   "outputs": [
    {
     "name": "stdout",
     "output_type": "stream",
     "text": [
      "This is my first function\n"
     ]
    },
    {
     "data": {
      "text/plain": [
       "'None sudh'"
      ]
     },
     "execution_count": 19,
     "metadata": {},
     "output_type": "execute_result"
    }
   ],
   "source": [
    "str(test1()) + \" sudh\""
   ]
  },
  {
   "cell_type": "code",
   "execution_count": 15,
   "id": "0dda3504",
   "metadata": {},
   "outputs": [],
   "source": [
    "def test2():\n",
    "    return \"This is my first return\""
   ]
  },
  {
   "cell_type": "code",
   "execution_count": 16,
   "id": "466994d1",
   "metadata": {},
   "outputs": [
    {
     "data": {
      "text/plain": [
       "'This is my first return'"
      ]
     },
     "execution_count": 16,
     "metadata": {},
     "output_type": "execute_result"
    }
   ],
   "source": [
    "test2()"
   ]
  },
  {
   "cell_type": "code",
   "execution_count": 17,
   "id": "21957dad",
   "metadata": {},
   "outputs": [
    {
     "data": {
      "text/plain": [
       "'This is my first return sudh'"
      ]
     },
     "execution_count": 17,
     "metadata": {},
     "output_type": "execute_result"
    }
   ],
   "source": [
    "test2() + \" sudh\""
   ]
  },
  {
   "cell_type": "code",
   "execution_count": 20,
   "id": "b2229406",
   "metadata": {},
   "outputs": [],
   "source": [
    "# returning multiple data\n",
    "def test3():\n",
    "    return \"sudh\", 23, 245, [1,2,3,4]"
   ]
  },
  {
   "cell_type": "code",
   "execution_count": 21,
   "id": "92364cca",
   "metadata": {},
   "outputs": [
    {
     "data": {
      "text/plain": [
       "('sudh', 23, 245, [1, 2, 3, 4])"
      ]
     },
     "execution_count": 21,
     "metadata": {},
     "output_type": "execute_result"
    }
   ],
   "source": [
    "test3()"
   ]
  },
  {
   "cell_type": "code",
   "execution_count": 27,
   "id": "87c51147",
   "metadata": {},
   "outputs": [
    {
     "data": {
      "text/plain": [
       "function"
      ]
     },
     "execution_count": 27,
     "metadata": {},
     "output_type": "execute_result"
    }
   ],
   "source": [
    "type(test3)"
   ]
  },
  {
   "cell_type": "code",
   "execution_count": 29,
   "id": "21fcab86",
   "metadata": {},
   "outputs": [
    {
     "data": {
      "text/plain": [
       "tuple"
      ]
     },
     "execution_count": 29,
     "metadata": {},
     "output_type": "execute_result"
    }
   ],
   "source": [
    "type(test3())"
   ]
  },
  {
   "cell_type": "code",
   "execution_count": 22,
   "id": "4e40d768",
   "metadata": {},
   "outputs": [],
   "source": [
    "a,b,c,d = test3() # multiple variable assignment"
   ]
  },
  {
   "cell_type": "code",
   "execution_count": 23,
   "id": "57b158db",
   "metadata": {},
   "outputs": [
    {
     "data": {
      "text/plain": [
       "'sudh'"
      ]
     },
     "execution_count": 23,
     "metadata": {},
     "output_type": "execute_result"
    }
   ],
   "source": [
    "a"
   ]
  },
  {
   "cell_type": "code",
   "execution_count": 24,
   "id": "2bda3066",
   "metadata": {},
   "outputs": [
    {
     "data": {
      "text/plain": [
       "23"
      ]
     },
     "execution_count": 24,
     "metadata": {},
     "output_type": "execute_result"
    }
   ],
   "source": [
    "b"
   ]
  },
  {
   "cell_type": "code",
   "execution_count": 25,
   "id": "80d468cf",
   "metadata": {},
   "outputs": [
    {
     "data": {
      "text/plain": [
       "245"
      ]
     },
     "execution_count": 25,
     "metadata": {},
     "output_type": "execute_result"
    }
   ],
   "source": [
    "c"
   ]
  },
  {
   "cell_type": "code",
   "execution_count": 26,
   "id": "0f57603e",
   "metadata": {},
   "outputs": [
    {
     "data": {
      "text/plain": [
       "[1, 2, 3, 4]"
      ]
     },
     "execution_count": 26,
     "metadata": {},
     "output_type": "execute_result"
    }
   ],
   "source": [
    "d"
   ]
  },
  {
   "cell_type": "code",
   "execution_count": 30,
   "id": "f478a89c",
   "metadata": {},
   "outputs": [],
   "source": [
    "def test4():\n",
    "    a = 5+6/7\n",
    "    return a"
   ]
  },
  {
   "cell_type": "code",
   "execution_count": 33,
   "id": "8bc6b3e3",
   "metadata": {},
   "outputs": [
    {
     "data": {
      "text/plain": [
       "5.857142857142857"
      ]
     },
     "execution_count": 33,
     "metadata": {},
     "output_type": "execute_result"
    }
   ],
   "source": [
    "test4()"
   ]
  },
  {
   "cell_type": "code",
   "execution_count": 39,
   "id": "89fa2be0",
   "metadata": {},
   "outputs": [],
   "source": [
    "def test5(a,b,c):\n",
    "    d = a+b/c\n",
    "    return d"
   ]
  },
  {
   "cell_type": "code",
   "execution_count": 40,
   "id": "edba2268",
   "metadata": {},
   "outputs": [
    {
     "ename": "TypeError",
     "evalue": "test5() missing 3 required positional arguments: 'a', 'b', and 'c'",
     "output_type": "error",
     "traceback": [
      "\u001b[0;31m---------------------------------------------------------------------------\u001b[0m",
      "\u001b[0;31mTypeError\u001b[0m                                 Traceback (most recent call last)",
      "\u001b[0;32m/tmp/ipykernel_9705/379652043.py\u001b[0m in \u001b[0;36m<module>\u001b[0;34m\u001b[0m\n\u001b[0;32m----> 1\u001b[0;31m \u001b[0mtest5\u001b[0m\u001b[0;34m(\u001b[0m\u001b[0;34m)\u001b[0m\u001b[0;34m\u001b[0m\u001b[0;34m\u001b[0m\u001b[0m\n\u001b[0m",
      "\u001b[0;31mTypeError\u001b[0m: test5() missing 3 required positional arguments: 'a', 'b', and 'c'"
     ]
    }
   ],
   "source": [
    "test5()"
   ]
  },
  {
   "cell_type": "code",
   "execution_count": 41,
   "id": "5eb8b1bc",
   "metadata": {},
   "outputs": [
    {
     "data": {
      "text/plain": [
       "2.625"
      ]
     },
     "execution_count": 41,
     "metadata": {},
     "output_type": "execute_result"
    }
   ],
   "source": [
    "test5(2,5,8)"
   ]
  },
  {
   "cell_type": "code",
   "execution_count": 42,
   "id": "6196821c",
   "metadata": {},
   "outputs": [],
   "source": [
    "def test6(a,b):\n",
    "    return a+b"
   ]
  },
  {
   "cell_type": "code",
   "execution_count": 43,
   "id": "319e049c",
   "metadata": {},
   "outputs": [
    {
     "data": {
      "text/plain": [
       "7"
      ]
     },
     "execution_count": 43,
     "metadata": {},
     "output_type": "execute_result"
    }
   ],
   "source": [
    "test6(3,4)"
   ]
  },
  {
   "cell_type": "code",
   "execution_count": 45,
   "id": "e19ac930",
   "metadata": {},
   "outputs": [
    {
     "data": {
      "text/plain": [
       "'sudhansu kumar'"
      ]
     },
     "execution_count": 45,
     "metadata": {},
     "output_type": "execute_result"
    }
   ],
   "source": [
    "test6(\"sudhansu \", \"kumar\")"
   ]
  },
  {
   "cell_type": "code",
   "execution_count": 46,
   "id": "c63d7f76",
   "metadata": {},
   "outputs": [
    {
     "data": {
      "text/plain": [
       "[1, 2, 3, 4, 5, 6, 7, 8]"
      ]
     },
     "execution_count": 46,
     "metadata": {},
     "output_type": "execute_result"
    }
   ],
   "source": [
    "test6([1,2,3,4], [5,6,7,8])"
   ]
  },
  {
   "cell_type": "code",
   "execution_count": 47,
   "id": "c9e85b8a",
   "metadata": {},
   "outputs": [],
   "source": [
    "# write a function which gives a list of only numeric values \n",
    "# from the below list l\n",
    "\n",
    "l = [1,2,4,3.45, \"sudh\", \"kumar\", [1,2,3,4,5,6]]"
   ]
  },
  {
   "cell_type": "code",
   "execution_count": 78,
   "id": "bf7cc9c3",
   "metadata": {},
   "outputs": [],
   "source": [
    "def fun(l):\n",
    "    \"\"\"it is a function which extracts only the numeric value from the list\n",
    "    \"\"\"\n",
    "    l1 = []\n",
    "    for i in l:\n",
    "        if type(i)==int or type(i)==float:\n",
    "            l1.append(i)\n",
    "    return l1"
   ]
  },
  {
   "cell_type": "code",
   "execution_count": 83,
   "id": "8814c9a6",
   "metadata": {},
   "outputs": [],
   "source": [
    "def test7(l):\n",
    "    \"\"\"\n",
    "        This is a docstring of test7.\n",
    "        this function extracts numeric data from a list\n",
    "    \"\"\"\n",
    "    l1 = []\n",
    "    for i in l:\n",
    "        if type(i)==int or type(i)==float:\n",
    "            l1.append(i)\n",
    "        elif type(i) == list:\n",
    "            l1.extend(fun(i))\n",
    "    return l1"
   ]
  },
  {
   "cell_type": "code",
   "execution_count": 84,
   "id": "69446ee6",
   "metadata": {},
   "outputs": [
    {
     "data": {
      "text/plain": [
       "[1, 2, 4, 3.45, 1, 2, 3, 4, 5, 6]"
      ]
     },
     "execution_count": 84,
     "metadata": {},
     "output_type": "execute_result"
    }
   ],
   "source": [
    "test7(l)"
   ]
  },
  {
   "cell_type": "code",
   "execution_count": 82,
   "id": "30daff7d",
   "metadata": {},
   "outputs": [
    {
     "data": {
      "text/plain": [
       "'it is a function which extracts only the numeric value from the list\\n    '"
      ]
     },
     "execution_count": 82,
     "metadata": {},
     "output_type": "execute_result"
    }
   ],
   "source": [
    "fun.__doc__"
   ]
  },
  {
   "cell_type": "code",
   "execution_count": 89,
   "id": "2c05bfdb",
   "metadata": {},
   "outputs": [
    {
     "data": {
      "text/plain": [
       "'\\n        This is a docstring of test7.\\n        this function extracts numeric data from a list\\n    '"
      ]
     },
     "execution_count": 89,
     "metadata": {},
     "output_type": "execute_result"
    }
   ],
   "source": [
    "test7.__doc__"
   ]
  },
  {
   "cell_type": "code",
   "execution_count": 90,
   "id": "b3dfa176",
   "metadata": {},
   "outputs": [],
   "source": [
    "\n",
    "def test8(a, b):\n",
    "    return a + b"
   ]
  },
  {
   "cell_type": "code",
   "execution_count": 92,
   "id": "f13d2bb8",
   "metadata": {},
   "outputs": [],
   "source": [
    "# variable length arguments\n",
    "# * -> means n no. of arguments we can pass\n",
    "# data will be stored inside the args variable in the form of tuple\n",
    "# args is not a keyword it is just the name of a variable. we can\n",
    "# give any name to the variable.conventionally args is given as a name\n",
    "def test9(*args):\n",
    "    return args"
   ]
  },
  {
   "cell_type": "code",
   "execution_count": 93,
   "id": "5a885afc",
   "metadata": {},
   "outputs": [
    {
     "data": {
      "text/plain": [
       "()"
      ]
     },
     "execution_count": 93,
     "metadata": {},
     "output_type": "execute_result"
    }
   ],
   "source": [
    "test9()"
   ]
  },
  {
   "cell_type": "code",
   "execution_count": 94,
   "id": "34e615f3",
   "metadata": {},
   "outputs": [
    {
     "data": {
      "text/plain": [
       "tuple"
      ]
     },
     "execution_count": 94,
     "metadata": {},
     "output_type": "execute_result"
    }
   ],
   "source": [
    "type(test9())"
   ]
  },
  {
   "cell_type": "code",
   "execution_count": 95,
   "id": "be10979f",
   "metadata": {},
   "outputs": [
    {
     "data": {
      "text/plain": [
       "(1, 2)"
      ]
     },
     "execution_count": 95,
     "metadata": {},
     "output_type": "execute_result"
    }
   ],
   "source": [
    "test9(1,2)"
   ]
  },
  {
   "cell_type": "code",
   "execution_count": 97,
   "id": "0643b0a8",
   "metadata": {},
   "outputs": [
    {
     "data": {
      "text/plain": [
       "(1, 2, 3, 4, 'sudh', 'kumar', [1, 2, 3, 4])"
      ]
     },
     "execution_count": 97,
     "metadata": {},
     "output_type": "execute_result"
    }
   ],
   "source": [
    "test9(1,2,3,4,\"sudh\", \"kumar\", [1,2,3,4])"
   ]
  },
  {
   "cell_type": "code",
   "execution_count": 98,
   "id": "9ad4f8dc",
   "metadata": {},
   "outputs": [],
   "source": [
    "def test10(*args, a):\n",
    "    return args,a"
   ]
  },
  {
   "cell_type": "code",
   "execution_count": 99,
   "id": "9676d8c1",
   "metadata": {},
   "outputs": [
    {
     "ename": "TypeError",
     "evalue": "test10() missing 1 required keyword-only argument: 'a'",
     "output_type": "error",
     "traceback": [
      "\u001b[0;31m---------------------------------------------------------------------------\u001b[0m",
      "\u001b[0;31mTypeError\u001b[0m                                 Traceback (most recent call last)",
      "\u001b[0;32m/tmp/ipykernel_9705/2665671561.py\u001b[0m in \u001b[0;36m<module>\u001b[0;34m\u001b[0m\n\u001b[0;32m----> 1\u001b[0;31m \u001b[0mtest10\u001b[0m\u001b[0;34m(\u001b[0m\u001b[0;36m1\u001b[0m\u001b[0;34m,\u001b[0m\u001b[0;36m2\u001b[0m\u001b[0;34m,\u001b[0m\u001b[0;36m3\u001b[0m\u001b[0;34m,\u001b[0m\u001b[0;36m4\u001b[0m\u001b[0;34m,\u001b[0m\u001b[0;36m23\u001b[0m\u001b[0;34m)\u001b[0m\u001b[0;34m\u001b[0m\u001b[0;34m\u001b[0m\u001b[0m\n\u001b[0m",
      "\u001b[0;31mTypeError\u001b[0m: test10() missing 1 required keyword-only argument: 'a'"
     ]
    }
   ],
   "source": [
    "test10(1,2,3,4,23)"
   ]
  },
  {
   "cell_type": "code",
   "execution_count": 100,
   "id": "c8279c6c",
   "metadata": {},
   "outputs": [
    {
     "data": {
      "text/plain": [
       "((1, 2, 3, 4), 23)"
      ]
     },
     "execution_count": 100,
     "metadata": {},
     "output_type": "execute_result"
    }
   ],
   "source": [
    "test10(1,2,3,4, a = 23)"
   ]
  },
  {
   "cell_type": "code",
   "execution_count": 121,
   "id": "b81bbc64",
   "metadata": {},
   "outputs": [],
   "source": [
    "# default values"
   ]
  },
  {
   "cell_type": "code",
   "execution_count": 111,
   "id": "f1e6b2ed",
   "metadata": {},
   "outputs": [],
   "source": [
    "def test11(c,d,a=23, b=10):\n",
    "    return a,b,c,d"
   ]
  },
  {
   "cell_type": "code",
   "execution_count": 112,
   "id": "160b5203",
   "metadata": {},
   "outputs": [
    {
     "data": {
      "text/plain": [
       "(23, 10, 1, 2)"
      ]
     },
     "execution_count": 112,
     "metadata": {},
     "output_type": "execute_result"
    }
   ],
   "source": [
    "test11(1,2)"
   ]
  },
  {
   "cell_type": "code",
   "execution_count": 117,
   "id": "c6f0d98b",
   "metadata": {},
   "outputs": [
    {
     "data": {
      "text/plain": [
       "(3, 10, 1, 2)"
      ]
     },
     "execution_count": 117,
     "metadata": {},
     "output_type": "execute_result"
    }
   ],
   "source": [
    "test11(1,2,3)"
   ]
  },
  {
   "cell_type": "code",
   "execution_count": 118,
   "id": "8ff6a091",
   "metadata": {},
   "outputs": [],
   "source": [
    "def test12(*a):\n",
    "    return sum(a)"
   ]
  },
  {
   "cell_type": "code",
   "execution_count": 120,
   "id": "38cb6934",
   "metadata": {},
   "outputs": [
    {
     "data": {
      "text/plain": [
       "6"
      ]
     },
     "execution_count": 120,
     "metadata": {},
     "output_type": "execute_result"
    }
   ],
   "source": [
    "test12(1,2,3)"
   ]
  },
  {
   "cell_type": "code",
   "execution_count": 122,
   "id": "4ce59a59",
   "metadata": {},
   "outputs": [],
   "source": [
    "# keyword args"
   ]
  },
  {
   "cell_type": "code",
   "execution_count": 123,
   "id": "b7df54de",
   "metadata": {},
   "outputs": [],
   "source": [
    "# if we want to get data in k,v pair then keyword args will be used"
   ]
  },
  {
   "cell_type": "code",
   "execution_count": 146,
   "id": "f76f83ed",
   "metadata": {},
   "outputs": [],
   "source": [
    "# we can give n number of arguments in the form of key value pair\n",
    "def test13(**kwargs):\n",
    "    return kwargs"
   ]
  },
  {
   "cell_type": "code",
   "execution_count": 147,
   "id": "2d2d8281",
   "metadata": {},
   "outputs": [
    {
     "data": {
      "text/plain": [
       "{}"
      ]
     },
     "execution_count": 147,
     "metadata": {},
     "output_type": "execute_result"
    }
   ],
   "source": [
    "test13()"
   ]
  },
  {
   "cell_type": "code",
   "execution_count": 148,
   "id": "cb287614",
   "metadata": {},
   "outputs": [
    {
     "data": {
      "text/plain": [
       "dict"
      ]
     },
     "execution_count": 148,
     "metadata": {},
     "output_type": "execute_result"
    }
   ],
   "source": [
    "type(test13())"
   ]
  },
  {
   "cell_type": "code",
   "execution_count": 149,
   "id": "4fb3442c",
   "metadata": {},
   "outputs": [],
   "source": [
    "d = {'a':1}"
   ]
  },
  {
   "cell_type": "code",
   "execution_count": 150,
   "id": "2e591920",
   "metadata": {},
   "outputs": [
    {
     "data": {
      "text/plain": [
       "{'a': [1, 2, 3, 4], 'b': 1.2, 'c': 'leo'}"
      ]
     },
     "execution_count": 150,
     "metadata": {},
     "output_type": "execute_result"
    }
   ],
   "source": [
    "test13(a=[1,2,3,4], b=1.2, c='leo')"
   ]
  },
  {
   "cell_type": "code",
   "execution_count": null,
   "id": "3276ba8a",
   "metadata": {},
   "outputs": [],
   "source": []
  }
 ],
 "metadata": {
  "kernelspec": {
   "display_name": "Python 3 (ipykernel)",
   "language": "python",
   "name": "python3"
  },
  "language_info": {
   "codemirror_mode": {
    "name": "ipython",
    "version": 3
   },
   "file_extension": ".py",
   "mimetype": "text/x-python",
   "name": "python",
   "nbconvert_exporter": "python",
   "pygments_lexer": "ipython3",
   "version": "3.9.13"
  }
 },
 "nbformat": 4,
 "nbformat_minor": 5
}
