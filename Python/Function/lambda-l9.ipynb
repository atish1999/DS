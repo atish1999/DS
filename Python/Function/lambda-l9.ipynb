{
 "cells": [
  {
   "cell_type": "code",
   "execution_count": 1,
   "id": "dc59d301",
   "metadata": {},
   "outputs": [],
   "source": [
    "n,p = 3,2"
   ]
  },
  {
   "cell_type": "code",
   "execution_count": 3,
   "id": "ebf75c06",
   "metadata": {},
   "outputs": [],
   "source": [
    "def test(n, p):\n",
    "    return n**p"
   ]
  },
  {
   "cell_type": "code",
   "execution_count": 4,
   "id": "535fec86",
   "metadata": {},
   "outputs": [
    {
     "data": {
      "text/plain": [
       "9"
      ]
     },
     "execution_count": 4,
     "metadata": {},
     "output_type": "execute_result"
    }
   ],
   "source": [
    "test(n,p)"
   ]
  },
  {
   "cell_type": "code",
   "execution_count": 5,
   "id": "af98a8d5",
   "metadata": {},
   "outputs": [],
   "source": [
    "# write the above test function in the form of lambda\n",
    "test1 = lambda n,p: n**p"
   ]
  },
  {
   "cell_type": "code",
   "execution_count": 6,
   "id": "700b9b1e",
   "metadata": {},
   "outputs": [
    {
     "data": {
      "text/plain": [
       "9"
      ]
     },
     "execution_count": 6,
     "metadata": {},
     "output_type": "execute_result"
    }
   ],
   "source": [
    "test1(n,p)"
   ]
  },
  {
   "cell_type": "code",
   "execution_count": 8,
   "id": "4a6d9911",
   "metadata": {},
   "outputs": [],
   "source": [
    "# addition function in lambda\n",
    "add = lambda x,y: x+y"
   ]
  },
  {
   "cell_type": "code",
   "execution_count": 9,
   "id": "c5e2188a",
   "metadata": {},
   "outputs": [
    {
     "data": {
      "text/plain": [
       "9"
      ]
     },
     "execution_count": 9,
     "metadata": {},
     "output_type": "execute_result"
    }
   ],
   "source": [
    "add(4,5)"
   ]
  },
  {
   "cell_type": "code",
   "execution_count": 12,
   "id": "aa1dd96a",
   "metadata": {},
   "outputs": [],
   "source": [
    "# convert celcius to farhanite\n",
    "c_to_f = lambda c: c*(9/5) + 32"
   ]
  },
  {
   "cell_type": "code",
   "execution_count": 16,
   "id": "38208a15",
   "metadata": {},
   "outputs": [
    {
     "data": {
      "text/plain": [
       "98.00006"
      ]
     },
     "execution_count": 16,
     "metadata": {},
     "output_type": "execute_result"
    }
   ],
   "source": [
    "c_to_f(36.6667)"
   ]
  },
  {
   "cell_type": "code",
   "execution_count": 17,
   "id": "6925ee1d",
   "metadata": {},
   "outputs": [
    {
     "data": {
      "text/plain": [
       "113.0"
      ]
     },
     "execution_count": 17,
     "metadata": {},
     "output_type": "execute_result"
    }
   ],
   "source": [
    "c_to_f(45)"
   ]
  },
  {
   "cell_type": "code",
   "execution_count": 18,
   "id": "5d723064",
   "metadata": {},
   "outputs": [],
   "source": [
    "# write a lambda function to calculate maximum between 2 numbers\n",
    "_max = lambda a,b: a if a > b else b"
   ]
  },
  {
   "cell_type": "code",
   "execution_count": 19,
   "id": "73e70e4a",
   "metadata": {},
   "outputs": [
    {
     "data": {
      "text/plain": [
       "3"
      ]
     },
     "execution_count": 19,
     "metadata": {},
     "output_type": "execute_result"
    }
   ],
   "source": [
    "_max(2,3)"
   ]
  },
  {
   "cell_type": "code",
   "execution_count": 21,
   "id": "de538075",
   "metadata": {},
   "outputs": [
    {
     "data": {
      "text/plain": [
       "9"
      ]
     },
     "execution_count": 21,
     "metadata": {},
     "output_type": "execute_result"
    }
   ],
   "source": [
    "_max(9,5)"
   ]
  },
  {
   "cell_type": "code",
   "execution_count": 22,
   "id": "f65fede4",
   "metadata": {},
   "outputs": [],
   "source": [
    "# write a lambda function to calculate the length of a string\n",
    "_len = lambda s: len(s)"
   ]
  },
  {
   "cell_type": "code",
   "execution_count": 23,
   "id": "9ff532fa",
   "metadata": {},
   "outputs": [
    {
     "data": {
      "text/plain": [
       "4"
      ]
     },
     "execution_count": 23,
     "metadata": {},
     "output_type": "execute_result"
    }
   ],
   "source": [
    "_len('sudh')"
   ]
  },
  {
   "cell_type": "code",
   "execution_count": 37,
   "id": "503826d6",
   "metadata": {},
   "outputs": [],
   "source": [
    "# find the second maximum element using lambda.\n",
    "l = [[2,1,4],[1, 4, 16, 12],[3, 6, 9, 7]]\n",
    "\n",
    "sorted_list = lambda x: (sorted(i) for i in x)\n"
   ]
  },
  {
   "cell_type": "code",
   "execution_count": 38,
   "id": "e7a5afa9",
   "metadata": {},
   "outputs": [
    {
     "data": {
      "text/plain": [
       "<generator object <lambda>.<locals>.<genexpr> at 0x7f2564045890>"
      ]
     },
     "execution_count": 38,
     "metadata": {},
     "output_type": "execute_result"
    }
   ],
   "source": [
    "sorted_list(l)"
   ]
  },
  {
   "cell_type": "code",
   "execution_count": 41,
   "id": "ef258f18",
   "metadata": {},
   "outputs": [
    {
     "name": "stdout",
     "output_type": "stream",
     "text": [
      "[1, 2, 4]\n",
      "[1, 4, 12, 16]\n",
      "[3, 6, 7, 9]\n"
     ]
    }
   ],
   "source": [
    "for x in sorted_list(l):\n",
    "    print(x)"
   ]
  },
  {
   "cell_type": "code",
   "execution_count": 42,
   "id": "236fa4c0",
   "metadata": {},
   "outputs": [],
   "source": [
    "_max2a = lambda _2d,_sort : [y[-2] for y in _sort(_2d)]"
   ]
  },
  {
   "cell_type": "code",
   "execution_count": 43,
   "id": "3f04df02",
   "metadata": {},
   "outputs": [
    {
     "data": {
      "text/plain": [
       "[2, 12, 7]"
      ]
     },
     "execution_count": 43,
     "metadata": {},
     "output_type": "execute_result"
    }
   ],
   "source": [
    "_max2a(l, sorted_list)"
   ]
  },
  {
   "cell_type": "code",
   "execution_count": 44,
   "id": "00f94fd9",
   "metadata": {},
   "outputs": [],
   "source": [
    "_max2b = lambda _2d : [_1d[-2] for _1d in _2d]"
   ]
  },
  {
   "cell_type": "code",
   "execution_count": 45,
   "id": "7f22e77c",
   "metadata": {},
   "outputs": [
    {
     "data": {
      "text/plain": [
       "[2, 12, 7]"
      ]
     },
     "execution_count": 45,
     "metadata": {},
     "output_type": "execute_result"
    }
   ],
   "source": [
    "_max2b(sorted_list(l))"
   ]
  },
  {
   "cell_type": "code",
   "execution_count": 1,
   "id": "428715a6",
   "metadata": {},
   "outputs": [],
   "source": [
    "# create lambda function\n",
    "greet = lambda st: st"
   ]
  },
  {
   "cell_type": "code",
   "execution_count": 2,
   "id": "e216e4f0",
   "metadata": {},
   "outputs": [
    {
     "data": {
      "text/plain": [
       "'hello world'"
      ]
     },
     "execution_count": 2,
     "metadata": {},
     "output_type": "execute_result"
    }
   ],
   "source": [
    "# call lambda function\n",
    "greet(\"hello world\")"
   ]
  },
  {
   "cell_type": "code",
   "execution_count": 37,
   "id": "e0fd4e95",
   "metadata": {},
   "outputs": [],
   "source": [
    "li = [lambda arg=x:arg for x in range(1,10)]"
   ]
  },
  {
   "cell_type": "code",
   "execution_count": 38,
   "id": "d34e0921",
   "metadata": {},
   "outputs": [
    {
     "data": {
      "text/plain": [
       "[<function __main__.<listcomp>.<lambda>(arg=1)>,\n",
       " <function __main__.<listcomp>.<lambda>(arg=2)>,\n",
       " <function __main__.<listcomp>.<lambda>(arg=3)>,\n",
       " <function __main__.<listcomp>.<lambda>(arg=4)>,\n",
       " <function __main__.<listcomp>.<lambda>(arg=5)>,\n",
       " <function __main__.<listcomp>.<lambda>(arg=6)>,\n",
       " <function __main__.<listcomp>.<lambda>(arg=7)>,\n",
       " <function __main__.<listcomp>.<lambda>(arg=8)>,\n",
       " <function __main__.<listcomp>.<lambda>(arg=9)>]"
      ]
     },
     "execution_count": 38,
     "metadata": {},
     "output_type": "execute_result"
    }
   ],
   "source": [
    "li"
   ]
  },
  {
   "cell_type": "code",
   "execution_count": 36,
   "id": "82df6cef",
   "metadata": {},
   "outputs": [
    {
     "name": "stdout",
     "output_type": "stream",
     "text": [
      "1\n",
      "2\n",
      "3\n",
      "4\n",
      "5\n",
      "6\n",
      "7\n",
      "8\n",
      "9\n"
     ]
    }
   ],
   "source": [
    "for i in li:\n",
    "    print(i())"
   ]
  },
  {
   "cell_type": "code",
   "execution_count": 28,
   "id": "eaf680c9",
   "metadata": {},
   "outputs": [
    {
     "name": "stdout",
     "output_type": "stream",
     "text": [
      "0\n",
      "10\n",
      "20\n",
      "30\n",
      "40\n",
      "50\n",
      "60\n",
      "70\n",
      "80\n",
      "90\n"
     ]
    }
   ],
   "source": [
    "is_even_list = [lambda arg=x: arg * 10 for x in range(10)]\n",
    " \n",
    "# iterate on each lambda function\n",
    "# and invoke the function to get the calculated value\n",
    "for item in is_even_list:\n",
    "    print(item())"
   ]
  },
  {
   "cell_type": "code",
   "execution_count": 44,
   "id": "155d8495",
   "metadata": {},
   "outputs": [
    {
     "name": "stdout",
     "output_type": "stream",
     "text": [
      "Enter number -4\n"
     ]
    },
    {
     "data": {
      "text/plain": [
       "[-8]"
      ]
     },
     "execution_count": 44,
     "metadata": {},
     "output_type": "execute_result"
    }
   ],
   "source": [
    "x = int(input(\"Enter number \"))\n",
    "[ x+2 if x > 2 else x-2 if x == 2 else x*2]"
   ]
  },
  {
   "cell_type": "code",
   "execution_count": 53,
   "id": "64e4ddc7",
   "metadata": {},
   "outputs": [],
   "source": [
    "li = [lambda arg=x: print(arg) for x in range(10)]"
   ]
  },
  {
   "cell_type": "code",
   "execution_count": 54,
   "id": "3b083ee5",
   "metadata": {},
   "outputs": [
    {
     "name": "stdout",
     "output_type": "stream",
     "text": [
      "0\n",
      "1\n",
      "2\n",
      "3\n",
      "4\n",
      "5\n",
      "6\n",
      "7\n",
      "8\n",
      "9\n"
     ]
    }
   ],
   "source": [
    "for f in li:\n",
    "    f()"
   ]
  },
  {
   "cell_type": "code",
   "execution_count": 64,
   "id": "52441c1f",
   "metadata": {},
   "outputs": [],
   "source": [
    "li = [(lambda arg=item: print(arg)) for item in range(10)]"
   ]
  },
  {
   "cell_type": "code",
   "execution_count": 65,
   "id": "007df3a4",
   "metadata": {},
   "outputs": [
    {
     "name": "stdout",
     "output_type": "stream",
     "text": [
      "0\n",
      "1\n",
      "2\n",
      "3\n",
      "4\n",
      "5\n",
      "6\n",
      "7\n",
      "8\n",
      "9\n"
     ]
    }
   ],
   "source": [
    "for item in li:\n",
    "    item()"
   ]
  },
  {
   "cell_type": "code",
   "execution_count": 63,
   "id": "3b38b9dd",
   "metadata": {},
   "outputs": [
    {
     "data": {
      "text/plain": [
       "['even ->> 0', 'even ->> 2', 'even ->> 4', 'even ->> 6', 'even ->> 8']"
      ]
     },
     "execution_count": 63,
     "metadata": {},
     "output_type": "execute_result"
    }
   ],
   "source": [
    "[f'even ->> {item}' for item in range(10) if item%2==0 ]"
   ]
  },
  {
   "cell_type": "code",
   "execution_count": 67,
   "id": "872546f0",
   "metadata": {},
   "outputs": [],
   "source": [
    "x = lambda ip: 'prime' if ip in [2,3,5,7,11,13,17] else 'neither prime nor not prime' if ip == 1 else 'not prime'"
   ]
  },
  {
   "cell_type": "code",
   "execution_count": 68,
   "id": "0ea11344",
   "metadata": {},
   "outputs": [
    {
     "data": {
      "text/plain": [
       "'neither prime nor not prime'"
      ]
     },
     "execution_count": 68,
     "metadata": {},
     "output_type": "execute_result"
    }
   ],
   "source": [
    "x(1)"
   ]
  },
  {
   "cell_type": "code",
   "execution_count": 69,
   "id": "1c794255",
   "metadata": {},
   "outputs": [
    {
     "data": {
      "text/plain": [
       "'prime'"
      ]
     },
     "execution_count": 69,
     "metadata": {},
     "output_type": "execute_result"
    }
   ],
   "source": [
    "x(11)"
   ]
  },
  {
   "cell_type": "code",
   "execution_count": 70,
   "id": "2494c6d9",
   "metadata": {},
   "outputs": [
    {
     "data": {
      "text/plain": [
       "'not prime'"
      ]
     },
     "execution_count": 70,
     "metadata": {},
     "output_type": "execute_result"
    }
   ],
   "source": [
    "x(20)"
   ]
  },
  {
   "cell_type": "code",
   "execution_count": 77,
   "id": "faa1aaca",
   "metadata": {},
   "outputs": [],
   "source": [
    "g = lambda *li:[i for i in li if i%2==0] "
   ]
  },
  {
   "cell_type": "code",
   "execution_count": 78,
   "id": "f5d1837e",
   "metadata": {},
   "outputs": [
    {
     "data": {
      "text/plain": [
       "[2, 4, 0]"
      ]
     },
     "execution_count": 78,
     "metadata": {},
     "output_type": "execute_result"
    }
   ],
   "source": [
    "g(1,2,3,4,0)"
   ]
  },
  {
   "cell_type": "code",
   "execution_count": null,
   "id": "b2bcb97d",
   "metadata": {},
   "outputs": [],
   "source": []
  }
 ],
 "metadata": {
  "kernelspec": {
   "display_name": "Python 3 (ipykernel)",
   "language": "python",
   "name": "python3"
  },
  "language_info": {
   "codemirror_mode": {
    "name": "ipython",
    "version": 3
   },
   "file_extension": ".py",
   "mimetype": "text/x-python",
   "name": "python",
   "nbconvert_exporter": "python",
   "pygments_lexer": "ipython3",
   "version": "3.9.13"
  }
 },
 "nbformat": 4,
 "nbformat_minor": 5
}
